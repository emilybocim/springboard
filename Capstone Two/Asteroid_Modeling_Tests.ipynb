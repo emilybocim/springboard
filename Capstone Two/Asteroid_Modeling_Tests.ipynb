{
 "cells": [
  {
   "cell_type": "markdown",
   "metadata": {},
   "source": [
    "# 1. Imports"
   ]
  },
  {
   "cell_type": "code",
   "execution_count": 1,
   "metadata": {},
   "outputs": [],
   "source": [
    "#General\n",
    "import pandas as pd\n",
    "import numpy as np\n",
    "\n",
    "\n",
    "import matplotlib.pyplot            as plt\n",
    "import seaborn                      as sns\n",
    "from sklearn.preprocessing          import StandardScaler\n",
    "from sklearn                        import preprocessing, linear_model\n",
    "from sklearn.metrics                import r2_score, mean_squared_error\n",
    "from sklearn.model_selection        import train_test_split, cross_val_score,GridSearchCV\n",
    "\n",
    "#Models\n",
    "from sklearn.linear_model           import LinearRegression, Ridge, Lasso\n",
    "from sklearn.tree                   import DecisionTreeRegressor\n",
    "from sklearn.ensemble               import RandomForestRegressor, GradientBoostingRegressor, AdaBoostRegressor\n",
    "import statsmodels.api              as sm"
   ]
  },
  {
   "cell_type": "code",
   "execution_count": 2,
   "metadata": {},
   "outputs": [],
   "source": [
    "import warnings\n",
    "warnings.simplefilter(action=\"ignore\", category=FutureWarning)\n",
    "warnings.filterwarnings(action=\"ignore\", module=\"scipy\", message=\"^internal gelsd\")"
   ]
  },
  {
   "cell_type": "markdown",
   "metadata": {},
   "source": [
    "# 2. Load Data"
   ]
  },
  {
   "cell_type": "code",
   "execution_count": 3,
   "metadata": {},
   "outputs": [],
   "source": [
    "#Load the file generated from EDA.\n",
    "file = 'Asteroid_EDA_Clean.csv'\n",
    "df = pd.read_csv(file, sep=',', index_col=0)"
   ]
  },
  {
   "cell_type": "code",
   "execution_count": 4,
   "metadata": {},
   "outputs": [
    {
     "data": {
      "text/html": [
       "<div>\n",
       "<style scoped>\n",
       "    .dataframe tbody tr th:only-of-type {\n",
       "        vertical-align: middle;\n",
       "    }\n",
       "\n",
       "    .dataframe tbody tr th {\n",
       "        vertical-align: top;\n",
       "    }\n",
       "\n",
       "    .dataframe thead th {\n",
       "        text-align: right;\n",
       "    }\n",
       "</style>\n",
       "<table border=\"1\" class=\"dataframe\">\n",
       "  <thead>\n",
       "    <tr style=\"text-align: right;\">\n",
       "      <th></th>\n",
       "      <th>0</th>\n",
       "      <th>1</th>\n",
       "      <th>2</th>\n",
       "      <th>3</th>\n",
       "      <th>4</th>\n",
       "    </tr>\n",
       "  </thead>\n",
       "  <tbody>\n",
       "    <tr>\n",
       "      <th>semi-major_axis(au)</th>\n",
       "      <td>2.76917</td>\n",
       "      <td>2.77247</td>\n",
       "      <td>2.66915</td>\n",
       "      <td>2.36142</td>\n",
       "      <td>2.57425</td>\n",
       "    </tr>\n",
       "    <tr>\n",
       "      <th>eccentricity</th>\n",
       "      <td>0.076009</td>\n",
       "      <td>0.230337</td>\n",
       "      <td>0.256942</td>\n",
       "      <td>0.0887215</td>\n",
       "      <td>0.191095</td>\n",
       "    </tr>\n",
       "    <tr>\n",
       "      <th>x-y_inclination(deg)</th>\n",
       "      <td>10.5941</td>\n",
       "      <td>34.8362</td>\n",
       "      <td>12.9889</td>\n",
       "      <td>7.14177</td>\n",
       "      <td>5.36699</td>\n",
       "    </tr>\n",
       "    <tr>\n",
       "      <th>longitude_asc_node</th>\n",
       "      <td>80.3055</td>\n",
       "      <td>173.08</td>\n",
       "      <td>169.853</td>\n",
       "      <td>103.811</td>\n",
       "      <td>141.577</td>\n",
       "    </tr>\n",
       "    <tr>\n",
       "      <th>argument_perihelion</th>\n",
       "      <td>73.5977</td>\n",
       "      <td>310.049</td>\n",
       "      <td>248.139</td>\n",
       "      <td>150.729</td>\n",
       "      <td>358.688</td>\n",
       "    </tr>\n",
       "    <tr>\n",
       "      <th>perihelion_dist(au)</th>\n",
       "      <td>2.55868</td>\n",
       "      <td>2.13386</td>\n",
       "      <td>1.98333</td>\n",
       "      <td>2.15191</td>\n",
       "      <td>2.08232</td>\n",
       "    </tr>\n",
       "    <tr>\n",
       "      <th>aphelion_dist(au)</th>\n",
       "      <td>2.97965</td>\n",
       "      <td>3.41107</td>\n",
       "      <td>3.35497</td>\n",
       "      <td>2.57093</td>\n",
       "      <td>3.06617</td>\n",
       "    </tr>\n",
       "    <tr>\n",
       "      <th>data_arc(d)</th>\n",
       "      <td>8822</td>\n",
       "      <td>72318</td>\n",
       "      <td>72684</td>\n",
       "      <td>24288</td>\n",
       "      <td>63507</td>\n",
       "    </tr>\n",
       "    <tr>\n",
       "      <th>n_obs_used</th>\n",
       "      <td>1002</td>\n",
       "      <td>8490</td>\n",
       "      <td>7104</td>\n",
       "      <td>9325</td>\n",
       "      <td>2916</td>\n",
       "    </tr>\n",
       "    <tr>\n",
       "      <th>diameter</th>\n",
       "      <td>939.4</td>\n",
       "      <td>545</td>\n",
       "      <td>246.596</td>\n",
       "      <td>525.4</td>\n",
       "      <td>106.699</td>\n",
       "    </tr>\n",
       "    <tr>\n",
       "      <th>class</th>\n",
       "      <td>MBA</td>\n",
       "      <td>MBA</td>\n",
       "      <td>MBA</td>\n",
       "      <td>MBA</td>\n",
       "      <td>MBA</td>\n",
       "    </tr>\n",
       "    <tr>\n",
       "      <th>mean_motion(deg/d)</th>\n",
       "      <td>0.213885</td>\n",
       "      <td>0.213503</td>\n",
       "      <td>0.226019</td>\n",
       "      <td>0.271609</td>\n",
       "      <td>0.238632</td>\n",
       "    </tr>\n",
       "    <tr>\n",
       "      <th>orbital_period(d)</th>\n",
       "      <td>1683.15</td>\n",
       "      <td>1686.16</td>\n",
       "      <td>1592.79</td>\n",
       "      <td>1325.43</td>\n",
       "      <td>1508.6</td>\n",
       "    </tr>\n",
       "    <tr>\n",
       "      <th>mean_anomaly(deg)</th>\n",
       "      <td>77.3721</td>\n",
       "      <td>59.6991</td>\n",
       "      <td>34.925</td>\n",
       "      <td>95.8619</td>\n",
       "      <td>282.366</td>\n",
       "    </tr>\n",
       "  </tbody>\n",
       "</table>\n",
       "</div>"
      ],
      "text/plain": [
       "                             0         1         2          3         4\n",
       "semi-major_axis(au)    2.76917   2.77247   2.66915    2.36142   2.57425\n",
       "eccentricity          0.076009  0.230337  0.256942  0.0887215  0.191095\n",
       "x-y_inclination(deg)   10.5941   34.8362   12.9889    7.14177   5.36699\n",
       "longitude_asc_node     80.3055    173.08   169.853    103.811   141.577\n",
       "argument_perihelion    73.5977   310.049   248.139    150.729   358.688\n",
       "perihelion_dist(au)    2.55868   2.13386   1.98333    2.15191   2.08232\n",
       "aphelion_dist(au)      2.97965   3.41107   3.35497    2.57093   3.06617\n",
       "data_arc(d)               8822     72318     72684      24288     63507\n",
       "n_obs_used                1002      8490      7104       9325      2916\n",
       "diameter                 939.4       545   246.596      525.4   106.699\n",
       "class                      MBA       MBA       MBA        MBA       MBA\n",
       "mean_motion(deg/d)    0.213885  0.213503  0.226019   0.271609  0.238632\n",
       "orbital_period(d)      1683.15   1686.16   1592.79    1325.43    1508.6\n",
       "mean_anomaly(deg)      77.3721   59.6991    34.925    95.8619   282.366"
      ]
     },
     "execution_count": 4,
     "metadata": {},
     "output_type": "execute_result"
    }
   ],
   "source": [
    "#Verify that the data loaded correctly.\n",
    "df.head().T"
   ]
  },
  {
   "cell_type": "markdown",
   "metadata": {},
   "source": [
    "# 3. Feature Engineering"
   ]
  },
  {
   "cell_type": "markdown",
   "metadata": {},
   "source": [
    "After some initial modeling, it was seen that the relationship between the features and the target variable was not linear. To adjust for this, created a feature for the log of diameter."
   ]
  },
  {
   "cell_type": "code",
   "execution_count": 5,
   "metadata": {},
   "outputs": [],
   "source": [
    "df['log'] = np.log(df['diameter'])"
   ]
  },
  {
   "cell_type": "markdown",
   "metadata": {},
   "source": [
    "# 4. Explore the Data"
   ]
  },
  {
   "cell_type": "code",
   "execution_count": 6,
   "metadata": {},
   "outputs": [
    {
     "data": {
      "image/png": "[encoded data removed]",
      "text/plain": [
       "<Figure size 432x288 with 2 Axes>"
      ]
     },
     "metadata": {
      "needs_background": "light"
     },
     "output_type": "display_data"
    }
   ],
   "source": [
    "# Make a heatmap of the data \n",
    "sns.heatmap(df.corr());"
   ]
  },
  {
   "cell_type": "markdown",
   "metadata": {},
   "source": [
    "# 5. Models"
   ]
  },
  {
   "cell_type": "markdown",
   "metadata": {},
   "source": [
    "## Linear Regression with OLS"
   ]
  },
  {
   "cell_type": "code",
   "execution_count": 7,
   "metadata": {},
   "outputs": [
    {
     "data": {
      "text/html": [
       "<table class=\"simpletable\">\n",
       "<caption>OLS Regression Results</caption>\n",
       "<tr>\n",
       "  <th>Dep. Variable:</th>           <td>log</td>       <th>  R-squared:         </th> <td>   0.716</td> \n",
       "</tr>\n",
       "<tr>\n",
       "  <th>Model:</th>                   <td>OLS</td>       <th>  Adj. R-squared:    </th> <td>   0.716</td> \n",
       "</tr>\n",
       "<tr>\n",
       "  <th>Method:</th>             <td>Least Squares</td>  <th>  F-statistic:       </th> <td>2.526e+04</td>\n",
       "</tr>\n",
       "<tr>\n",
       "  <th>Date:</th>             <td>Tue, 20 Apr 2021</td> <th>  Prob (F-statistic):</th>  <td>  0.00</td>  \n",
       "</tr>\n",
       "<tr>\n",
       "  <th>Time:</th>                 <td>01:35:06</td>     <th>  Log-Likelihood:    </th> <td> -38034.</td> \n",
       "</tr>\n",
       "<tr>\n",
       "  <th>No. Observations:</th>      <td>110108</td>      <th>  AIC:               </th> <td>7.609e+04</td>\n",
       "</tr>\n",
       "<tr>\n",
       "  <th>Df Residuals:</th>          <td>110096</td>      <th>  BIC:               </th> <td>7.621e+04</td>\n",
       "</tr>\n",
       "<tr>\n",
       "  <th>Df Model:</th>              <td>    11</td>      <th>                     </th>     <td> </td>    \n",
       "</tr>\n",
       "<tr>\n",
       "  <th>Covariance Type:</th>      <td>nonrobust</td>    <th>                     </th>     <td> </td>    \n",
       "</tr>\n",
       "</table>\n",
       "<table class=\"simpletable\">\n",
       "<tr>\n",
       "            <td></td>              <th>coef</th>     <th>std err</th>      <th>t</th>      <th>P>|t|</th>  <th>[0.025</th>    <th>0.975]</th>  \n",
       "</tr>\n",
       "<tr>\n",
       "  <th>const</th>                <td>    0.4548</td> <td>    0.015</td> <td>   31.305</td> <td> 0.000</td> <td>    0.426</td> <td>    0.483</td>\n",
       "</tr>\n",
       "<tr>\n",
       "  <th>semi-major_axis(au)</th>  <td>    0.1379</td> <td>    0.001</td> <td>  122.803</td> <td> 0.000</td> <td>    0.136</td> <td>    0.140</td>\n",
       "</tr>\n",
       "<tr>\n",
       "  <th>eccentricity</th>         <td>    0.7913</td> <td>    0.021</td> <td>   37.991</td> <td> 0.000</td> <td>    0.751</td> <td>    0.832</td>\n",
       "</tr>\n",
       "<tr>\n",
       "  <th>x-y_inclination(deg)</th> <td>    0.0161</td> <td>    0.000</td> <td>  100.472</td> <td> 0.000</td> <td>    0.016</td> <td>    0.016</td>\n",
       "</tr>\n",
       "<tr>\n",
       "  <th>longitude_asc_node</th>   <td>    0.0001</td> <td> 1.01e-05</td> <td>   11.919</td> <td> 0.000</td> <td>    0.000</td> <td>    0.000</td>\n",
       "</tr>\n",
       "<tr>\n",
       "  <th>argument_perihelion</th>  <td> 4.667e-05</td> <td>    1e-05</td> <td>    4.666</td> <td> 0.000</td> <td> 2.71e-05</td> <td> 6.63e-05</td>\n",
       "</tr>\n",
       "<tr>\n",
       "  <th>perihelion_dist(au)</th>  <td>    0.3755</td> <td>    0.003</td> <td>  108.222</td> <td> 0.000</td> <td>    0.369</td> <td>    0.382</td>\n",
       "</tr>\n",
       "<tr>\n",
       "  <th>aphelion_dist(au)</th>    <td>   -0.0996</td> <td>    0.002</td> <td>  -46.444</td> <td> 0.000</td> <td>   -0.104</td> <td>   -0.095</td>\n",
       "</tr>\n",
       "<tr>\n",
       "  <th>data_arc(d)</th>          <td> 2.452e-05</td> <td> 2.58e-07</td> <td>   94.877</td> <td> 0.000</td> <td>  2.4e-05</td> <td>  2.5e-05</td>\n",
       "</tr>\n",
       "<tr>\n",
       "  <th>n_obs_used</th>           <td>    0.0005</td> <td> 2.71e-06</td> <td>  179.088</td> <td> 0.000</td> <td>    0.000</td> <td>    0.000</td>\n",
       "</tr>\n",
       "<tr>\n",
       "  <th>mean_motion(deg/d)</th>   <td>   -4.0164</td> <td>    0.027</td> <td> -151.327</td> <td> 0.000</td> <td>   -4.068</td> <td>   -3.964</td>\n",
       "</tr>\n",
       "<tr>\n",
       "  <th>orbital_period(d)</th>    <td> 7.314e-06</td> <td> 6.14e-07</td> <td>   11.911</td> <td> 0.000</td> <td> 6.11e-06</td> <td> 8.52e-06</td>\n",
       "</tr>\n",
       "<tr>\n",
       "  <th>mean_anomaly(deg)</th>    <td> 4.964e-05</td> <td> 9.99e-06</td> <td>    4.968</td> <td> 0.000</td> <td> 3.01e-05</td> <td> 6.92e-05</td>\n",
       "</tr>\n",
       "</table>\n",
       "<table class=\"simpletable\">\n",
       "<tr>\n",
       "  <th>Omnibus:</th>       <td>30868.504</td> <th>  Durbin-Watson:     </th>  <td>   1.988</td>  \n",
       "</tr>\n",
       "<tr>\n",
       "  <th>Prob(Omnibus):</th>  <td> 0.000</td>   <th>  Jarque-Bera (JB):  </th> <td>2721958.488</td>\n",
       "</tr>\n",
       "<tr>\n",
       "  <th>Skew:</th>           <td>-0.339</td>   <th>  Prob(JB):          </th>  <td>    0.00</td>  \n",
       "</tr>\n",
       "<tr>\n",
       "  <th>Kurtosis:</th>       <td>27.348</td>   <th>  Cond. No.          </th>  <td>2.28e+18</td>  \n",
       "</tr>\n",
       "</table><br/><br/>Warnings:<br/>[1] Standard Errors assume that the covariance matrix of the errors is correctly specified.<br/>[2] The smallest eigenvalue is 2.78e-24. This might indicate that there are<br/>strong multicollinearity problems or that the design matrix is singular."
      ],
      "text/plain": [
       "<class 'statsmodels.iolib.summary.Summary'>\n",
       "\"\"\"\n",
       "                            OLS Regression Results                            \n",
       "==============================================================================\n",
       "Dep. Variable:                    log   R-squared:                       0.716\n",
       "Model:                            OLS   Adj. R-squared:                  0.716\n",
       "Method:                 Least Squares   F-statistic:                 2.526e+04\n",
       "Date:                Tue, 20 Apr 2021   Prob (F-statistic):               0.00\n",
       "Time:                        01:35:06   Log-Likelihood:                -38034.\n",
       "No. Observations:              110108   AIC:                         7.609e+04\n",
       "Df Residuals:                  110096   BIC:                         7.621e+04\n",
       "Df Model:                          11                                         \n",
       "Covariance Type:            nonrobust                                         \n",
       "========================================================================================\n",
       "                           coef    std err          t      P>|t|      [0.025      0.975]\n",
       "----------------------------------------------------------------------------------------\n",
       "const                    0.4548      0.015     31.305      0.000       0.426       0.483\n",
       "semi-major_axis(au)      0.1379      0.001    122.803      0.000       0.136       0.140\n",
       "eccentricity             0.7913      0.021     37.991      0.000       0.751       0.832\n",
       "x-y_inclination(deg)     0.0161      0.000    100.472      0.000       0.016       0.016\n",
       "longitude_asc_node       0.0001   1.01e-05     11.919      0.000       0.000       0.000\n",
       "argument_perihelion   4.667e-05      1e-05      4.666      0.000    2.71e-05    6.63e-05\n",
       "perihelion_dist(au)      0.3755      0.003    108.222      0.000       0.369       0.382\n",
       "aphelion_dist(au)       -0.0996      0.002    -46.444      0.000      -0.104      -0.095\n",
       "data_arc(d)           2.452e-05   2.58e-07     94.877      0.000     2.4e-05     2.5e-05\n",
       "n_obs_used               0.0005   2.71e-06    179.088      0.000       0.000       0.000\n",
       "mean_motion(deg/d)      -4.0164      0.027   -151.327      0.000      -4.068      -3.964\n",
       "orbital_period(d)     7.314e-06   6.14e-07     11.911      0.000    6.11e-06    8.52e-06\n",
       "mean_anomaly(deg)     4.964e-05   9.99e-06      4.968      0.000    3.01e-05    6.92e-05\n",
       "==============================================================================\n",
       "Omnibus:                    30868.504   Durbin-Watson:                   1.988\n",
       "Prob(Omnibus):                  0.000   Jarque-Bera (JB):          2721958.488\n",
       "Skew:                          -0.339   Prob(JB):                         0.00\n",
       "Kurtosis:                      27.348   Cond. No.                     2.28e+18\n",
       "==============================================================================\n",
       "\n",
       "Warnings:\n",
       "[1] Standard Errors assume that the covariance matrix of the errors is correctly specified.\n",
       "[2] The smallest eigenvalue is 2.78e-24. This might indicate that there are\n",
       "strong multicollinearity problems or that the design matrix is singular.\n",
       "\"\"\""
      ]
     },
     "execution_count": 7,
     "metadata": {},
     "output_type": "execute_result"
    }
   ],
   "source": [
    "#Split data into features and target.\n",
    "y = df['log']\n",
    "X = df.drop(columns = ['diameter','log','class'])\n",
    "X = sm.add_constant(X)\n",
    "\n",
    "#Create training and test data.\n",
    "X_train, X_test, y_train, y_test = train_test_split(\n",
    "    X, y, test_size=0.2, random_state=42)\n",
    "\n",
    "#Standarize the features\n",
    "scaler = preprocessing.StandardScaler().fit(X_train)\n",
    "X_train_scaled = scaler.transform(X_train)\n",
    "X_test_scaled = scaler.transform(X_test)\n",
    "\n",
    "#Create the model.\n",
    "rm = sm.OLS(y_train, X_train)\n",
    "\n",
    "#Train the model.\n",
    "rm_fit = rm.fit()\n",
    "\n",
    "#Predictions\n",
    "rm_pred = rm_fit.predict(X_test)\n",
    "\n",
    "#Evaluate the model.\n",
    "rm_fit.summary()"
   ]
  },
  {
   "cell_type": "code",
   "execution_count": 8,
   "metadata": {
    "scrolled": true
   },
   "outputs": [
    {
     "data": {
      "image/png": "[encoded data removed]",
      "text/plain": [
       "<Figure size 432x288 with 1 Axes>"
      ]
     },
     "metadata": {
      "needs_background": "light"
     },
     "output_type": "display_data"
    }
   ],
   "source": [
    "#Plot the predictions against the actual values.\n",
    "plt.scatter(y_test, rm_pred)\n",
    "plt.plot([0,10],[0,10],c = 'red')\n",
    "plt.xlabel('actual')\n",
    "plt.ylabel('prediciton')\n",
    "plt.xlim(0, 10) \n",
    "plt.ylim(0, 10) \n",
    "plt.show()"
   ]
  },
  {
   "cell_type": "markdown",
   "metadata": {},
   "source": [
    "### Exploring groups by 'Perihelion Distance'"
   ]
  },
  {
   "cell_type": "code",
   "execution_count": 9,
   "metadata": {},
   "outputs": [
    {
     "data": {
      "image/png": "[encoded data removed]",
      "text/plain": [
       "<Figure size 1080x360 with 1 Axes>"
      ]
     },
     "metadata": {
      "needs_background": "light"
     },
     "output_type": "display_data"
    }
   ],
   "source": [
    "from matplotlib.pyplot import figure\n",
    "figure(figsize=(15,5))\n",
    "plt.scatter(data=df,x='perihelion_dist(au)',y='log');\n",
    "#Mercury\n",
    "plt.axvline(x=.4,c='black')\n",
    "#Venus\n",
    "plt.axvline(x=.7,c='black')\n",
    "#Earth\n",
    "plt.axvline(x=1,c='black')\n",
    "#Mars\n",
    "plt.axvline(x=1.5,c='black')\n",
    "#Asteroid Belt\n",
    "plt.axvline(x=2,c='red')\n",
    "plt.axvline(x=3.4,c='red')\n",
    "#Jupiter\n",
    "plt.axvline(x=5.2,c='black')\n",
    "#Saturn\n",
    "plt.axvline(x=9.6,c='black')\n",
    "#Neptune/Kuiper Belt\n",
    "plt.axvline(x=30,c='black')\n",
    "plt.xlabel('Perihelion Distance (AU)')\n",
    "plt.ylabel('Diameter (log)')\n",
    "plt.show()\n"
   ]
  },
  {
   "cell_type": "markdown",
   "metadata": {},
   "source": [
    "The asteroid belt lies between 2.2 (au) and 3.2 (au) and has the greatest number of asteroids and has a large variety in sizes of asteroids. Below or above that range there is a distinct difference in asteroid diameter due the gravitaional pull by the sun and planets. \n",
    "\n",
    "However, the linear regression model only improved for the asteroids greater than 9.6 AU. Other subsets either performed the same or worse."
   ]
  },
  {
   "cell_type": "markdown",
   "metadata": {},
   "source": [
    "### Ridge Regressor"
   ]
  },
  {
   "cell_type": "code",
   "execution_count": 10,
   "metadata": {},
   "outputs": [
    {
     "name": "stdout",
     "output_type": "stream",
     "text": [
      "Alpha:  0.01\n",
      "Train Score:  0.7162430689950703\n",
      "Test Score:  0.7141522214542386\n",
      "\n",
      "Alpha:  0.1\n",
      "Train Score:  0.7162430485804548\n",
      "Test Score:  0.7141588360457698\n",
      "\n",
      "Alpha:  0.5\n",
      "Train Score:  0.7162425560919141\n",
      "Test Score:  0.7141877775081242\n",
      "\n",
      "Alpha:  0.75\n",
      "Train Score:  0.7162419180832207\n",
      "Test Score:  0.7142054902136377\n",
      "\n",
      "Alpha:  1\n",
      "Train Score:  0.7162410287477665\n",
      "Test Score:  0.7142229166503693\n",
      "\n"
     ]
    }
   ],
   "source": [
    "alphas = [0.01, 0.10, 0.50, 0.75, 1]\n",
    "for a in alphas:\n",
    "    ridge = Ridge(alpha = a)\n",
    "    ridge.fit(X_train, y_train)\n",
    "    print('Alpha: ', a)\n",
    "    print('Train Score: ', ridge.score(X_train, y_train))\n",
    "    print('Test Score: ', ridge.score(X_test, y_test))\n",
    "    print()"
   ]
  },
  {
   "cell_type": "markdown",
   "metadata": {},
   "source": [
    "There is not a significant improvement from Linear Regression."
   ]
  },
  {
   "cell_type": "markdown",
   "metadata": {},
   "source": [
    "### Lasso Regressor"
   ]
  },
  {
   "cell_type": "code",
   "execution_count": 11,
   "metadata": {},
   "outputs": [
    {
     "name": "stdout",
     "output_type": "stream",
     "text": [
      "Alpha:  0.01\n",
      "Train Score:  0.6458828454887032\n",
      "Test Score:  0.6583766139917421\n",
      "\n",
      "Alpha:  0.1\n",
      "Train Score:  0.5491979542433353\n",
      "Test Score:  0.54758747854511\n",
      "\n",
      "Alpha:  0.5\n",
      "Train Score:  0.34403981866499367\n",
      "Test Score:  0.3403139451776156\n",
      "\n",
      "Alpha:  0.75\n",
      "Train Score:  0.32636820850102777\n",
      "Test Score:  0.32268711689351115\n",
      "\n",
      "Alpha:  1\n",
      "Train Score:  0.3083984750083505\n",
      "Test Score:  0.3044885417404659\n",
      "\n"
     ]
    }
   ],
   "source": [
    "alphas = [0.01, 0.10, 0.50, 0.75, 1]\n",
    "for a in alphas:\n",
    "    lasso = Lasso(alpha = a)\n",
    "    lasso.fit(X_train, y_train)\n",
    "    print('Alpha: ', a)\n",
    "    print('Train Score: ', lasso.score(X_train, y_train))\n",
    "    print('Test Score: ', lasso.score(X_test, y_test))\n",
    "    print()"
   ]
  },
  {
   "cell_type": "markdown",
   "metadata": {},
   "source": [
    "Lasso regression does not work as well as Linear Regression."
   ]
  },
  {
   "cell_type": "markdown",
   "metadata": {},
   "source": [
    "### Random Forest Regressor"
   ]
  },
  {
   "cell_type": "markdown",
   "metadata": {},
   "source": [
    "Default parameters were found to have the best performance for this model."
   ]
  },
  {
   "cell_type": "code",
   "execution_count": 12,
   "metadata": {},
   "outputs": [
    {
     "name": "stdout",
     "output_type": "stream",
     "text": [
      "Train Score: 0.9701777128375961\n",
      "Test Score: 0.8344359997975732\n",
      "MSE: 0.06790449064438243\n",
      "RMSE: 0.2605849010291702\n"
     ]
    }
   ],
   "source": [
    "#Split data into features and target.\n",
    "y = df['log']\n",
    "X = df.drop(columns=['diameter','log','class'])\n",
    "\n",
    "#Create training and test data.\n",
    "X_train, X_test, y_train, y_test = train_test_split(\n",
    "    X, y, test_size=0.2, random_state=42)\n",
    "\n",
    "#Standarize the features\n",
    "\n",
    "scaler = preprocessing.StandardScaler().fit(X_train)\n",
    "\n",
    "X_train_scaled = scaler.transform(X_train)\n",
    "\n",
    "X_test_scaled = scaler.transform(X_test)\n",
    "\n",
    "#Create the model.\n",
    "rf = RandomForestRegressor()\n",
    "\n",
    "#Train the model.\n",
    "rf.fit(X_train, y_train)\n",
    "\n",
    "#Use the model to make predictions.\n",
    "rf_pred = rf.predict(X_test)\n",
    "\n",
    "#Evaluate the model.\n",
    "rf_score = rf.score(X_train, y_train)\n",
    "rf_score_test = rf.score(X_test, y_test)\n",
    "rf_mse = mean_squared_error(y_test, rf_pred)\n",
    "rf_rmse = np.sqrt(rf_mse)\n",
    "\n",
    "print('Train Score:',rf_score)\n",
    "print('Test Score:', rf_score_test)\n",
    "print('MSE:', rf_mse)\n",
    "print('RMSE:', rf_rmse)"
   ]
  },
  {
   "cell_type": "code",
   "execution_count": 13,
   "metadata": {},
   "outputs": [
    {
     "data": {
      "image/png": "[encoded data removed]",
      "text/plain": [
       "<Figure size 432x288 with 1 Axes>"
      ]
     },
     "metadata": {
      "needs_background": "light"
     },
     "output_type": "display_data"
    }
   ],
   "source": [
    "plt.scatter(y_test,rf_pred)\n",
    "plt.plot([0,10],[0,10],c = 'red')\n",
    "plt.xlabel('actual')\n",
    "plt.ylabel('prediciton')\n",
    "plt.xlim(0, 10) \n",
    "plt.ylim(0, 10) \n",
    "plt.show()"
   ]
  },
  {
   "cell_type": "code",
   "execution_count": 14,
   "metadata": {},
   "outputs": [
    {
     "name": "stdout",
     "output_type": "stream",
     "text": [
      "12\n"
     ]
    },
    {
     "data": {
      "image/png": "[encoded data removed]",
      "text/plain": [
       "<Figure size 720x720 with 1 Axes>"
      ]
     },
     "metadata": {
      "needs_background": "light"
     },
     "output_type": "display_data"
    }
   ],
   "source": [
    "feature_importance = rf.feature_importances_\n",
    "# make importances relative to max importance\n",
    "feature_importance = 100.0 * (feature_importance / feature_importance.max())[:30]\n",
    "sorted_idx = np.argsort(feature_importance)[:30]\n",
    "\n",
    "pos = np.arange(sorted_idx.shape[0]) + .5\n",
    "print(pos.size)\n",
    "sorted_idx.size\n",
    "plt.figure(figsize=(10,10))\n",
    "plt.barh(pos, feature_importance[sorted_idx], align='center')\n",
    "plt.yticks(pos, X.columns[sorted_idx])\n",
    "plt.xlabel('Relative Importance')\n",
    "plt.title('Variable Importance')\n",
    "plt.show()"
   ]
  },
  {
   "cell_type": "markdown",
   "metadata": {},
   "source": [
    "After exploring different combinations of the features, there appears to be important relationships between the features. All remaining features will be used for modeling. "
   ]
  },
  {
   "cell_type": "code",
   "execution_count": 15,
   "metadata": {},
   "outputs": [
    {
     "name": "stdout",
     "output_type": "stream",
     "text": [
      "n_estimators:  50\n",
      "Train Score:  0.9777366091821277\n",
      "Test Score:  0.8473645181456508\n",
      "\n",
      "n_estimators:  100\n",
      "Train Score:  0.9786690718762744\n",
      "Test Score:  0.8492519356408114\n",
      "\n",
      "n_estimators:  200\n",
      "Train Score:  0.9791524275909493\n",
      "Test Score:  0.8506250988362155\n",
      "\n",
      "n_estimators:  400\n",
      "Train Score:  0.9794220133293173\n",
      "Test Score:  0.8505662182084468\n",
      "\n"
     ]
    }
   ],
   "source": [
    "n_estimators = [50, 100, 200, 400]\n",
    "for n in n_estimators:\n",
    "    rf = RandomForestRegressor(n_estimators = n)\n",
    "    rf.fit(X_train, y_train)\n",
    "    print('n_estimators: ', n)\n",
    "    print('Train Score: ', rf.score(X_train, y_train))\n",
    "    print('Test Score: ', rf.score(X_test, y_test))\n",
    "    print()"
   ]
  },
  {
   "cell_type": "markdown",
   "metadata": {},
   "source": [
    "### Gradient Boosting Regressor"
   ]
  },
  {
   "cell_type": "code",
   "execution_count": 16,
   "metadata": {},
   "outputs": [
    {
     "name": "stdout",
     "output_type": "stream",
     "text": [
      "Learning Rate:  0.05\n",
      "Train Score: 0.8124855385890959\n",
      "Test Score: 0.808114646311674\n",
      "\n",
      "Learning Rate:  0.1\n",
      "Train Score: 0.8233339973692817\n",
      "Test Score: 0.8174267635336709\n",
      "\n",
      "Learning Rate:  0.25\n",
      "Train Score: 0.838091955704535\n",
      "Test Score: 0.8269130591103725\n",
      "\n",
      "Learning Rate:  0.5\n",
      "Train Score: 0.8486267056069239\n",
      "Test Score: 0.8323240693415278\n",
      "\n",
      "Learning Rate:  0.75\n",
      "Train Score: 0.8537185899333496\n",
      "Test Score: 0.8304786982980188\n",
      "\n",
      "Learning Rate:  1\n",
      "Train Score: 0.8531542183145006\n",
      "Test Score: 0.8232466878965813\n",
      "\n"
     ]
    }
   ],
   "source": [
    "#Split data into features and target.\n",
    "y = df['log']\n",
    "X = df.drop(columns=['diameter','log','class'])\n",
    "\n",
    "#Create training and test data.\n",
    "X_train, X_test, y_train, y_test = train_test_split(\n",
    "    X, y, test_size=0.2, random_state=42)\n",
    "\n",
    "#Standarize the features\n",
    "\n",
    "scaler = preprocessing.StandardScaler().fit(X_train)\n",
    "\n",
    "X_train_scaled = scaler.transform(X_train)\n",
    "\n",
    "X_test_scaled = scaler.transform(X_test)\n",
    "\n",
    "#Create the model.\n",
    "learning_rates = [0.05, 0.1, 0.25, 0.5, 0.75, 1]\n",
    "for learning_rate in learning_rates:\n",
    "    gb = GradientBoostingRegressor(learning_rate = learning_rate,\n",
    "                                  n_estimators = 200)\n",
    "    gb.fit(X_train, y_train)\n",
    "    print('Learning Rate: ', learning_rate)\n",
    "    print('Train Score:', gb.score(X_train, y_train))\n",
    "    print('Test Score:', gb.score(X_test, y_test))\n",
    "    print()"
   ]
  },
  {
   "cell_type": "code",
   "execution_count": 17,
   "metadata": {},
   "outputs": [
    {
     "name": "stdout",
     "output_type": "stream",
     "text": [
      "n_estimators:  50\n",
      "Train Score: 0.8223757136166254\n",
      "Test Score: 0.8115908311558924\n",
      "\n",
      "n_estimators:  100\n",
      "Train Score: 0.8402366103517002\n",
      "Test Score: 0.8262807133525814\n",
      "\n",
      "n_estimators:  200\n",
      "Train Score: 0.8537185899333496\n",
      "Test Score: 0.8305260066459716\n",
      "\n",
      "n_estimators:  400\n",
      "Train Score: 0.8670134385309988\n",
      "Test Score: 0.8291339366414235\n",
      "\n"
     ]
    }
   ],
   "source": [
    "#Split data into features and target.\n",
    "y = df['log']\n",
    "X = df.drop(columns=['diameter','log','class'])\n",
    "\n",
    "#Create training and test data.\n",
    "X_train, X_test, y_train, y_test = train_test_split(\n",
    "    X, y, test_size=0.2, random_state=42)\n",
    "\n",
    "#Standarize the features\n",
    "\n",
    "scaler = preprocessing.StandardScaler().fit(X_train)\n",
    "\n",
    "X_train_scaled = scaler.transform(X_train)\n",
    "\n",
    "X_test_scaled = scaler.transform(X_test)\n",
    "\n",
    "#Create the model.\n",
    "n_estimators = [50, 100, 200, 400]\n",
    "for n in n_estimators:\n",
    "    gb = GradientBoostingRegressor(learning_rate = 0.75,\n",
    "                                  n_estimators = n)\n",
    "    gb.fit(X_train, y_train)\n",
    "    print('n_estimators: ', n)\n",
    "    print('Train Score:', gb.score(X_train, y_train))\n",
    "    print('Test Score:', gb.score(X_test, y_test))\n",
    "    print()"
   ]
  },
  {
   "cell_type": "code",
   "execution_count": 18,
   "metadata": {},
   "outputs": [
    {
     "name": "stdout",
     "output_type": "stream",
     "text": [
      "Train Score: 0.8537185899333496\n",
      "Test Score: 0.8305110870653488\n",
      "MSE: 0.06951425604978151\n",
      "RMSE: 0.2636555632824415\n"
     ]
    }
   ],
   "source": [
    "gb = GradientBoostingRegressor(learning_rate = 0.75, n_estimators = 200)\n",
    "gb.fit(X_train, y_train)\n",
    "gb_pred = gb.predict(X_test)\n",
    "\n",
    "#Evaluate the model.\n",
    "gb_score = gb.score(X_train, y_train)\n",
    "gb_score_test = gb.score(X_test, y_test)\n",
    "gb_mse = mean_squared_error(y_test, gb_pred)\n",
    "gb_rmse = np.sqrt(gb_mse)\n",
    "\n",
    "print('Train Score:',gb_score)\n",
    "print('Test Score:', gb_score_test)\n",
    "print('MSE:', gb_mse)\n",
    "print('RMSE:', gb_rmse)"
   ]
  },
  {
   "cell_type": "code",
   "execution_count": 19,
   "metadata": {},
   "outputs": [
    {
     "data": {
      "image/png": "[encoded data removed]",
      "text/plain": [
       "<Figure size 432x288 with 1 Axes>"
      ]
     },
     "metadata": {
      "needs_background": "light"
     },
     "output_type": "display_data"
    }
   ],
   "source": [
    "plt.scatter(y_test,gb_pred)\n",
    "plt.plot([0,10],[0,10],c = 'red')\n",
    "plt.xlabel('actual')\n",
    "plt.ylabel('prediciton')\n",
    "plt.xlim(0, 10) \n",
    "plt.ylim(0, 10) \n",
    "plt.show()"
   ]
  },
  {
   "cell_type": "code",
   "execution_count": null,
   "metadata": {},
   "outputs": [],
   "source": []
  }
 ],
 "metadata": {
  "kernelspec": {
   "display_name": "Python 3",
   "language": "python",
   "name": "python3"
  },
  "language_info": {
   "codemirror_mode": {
    "name": "ipython",
    "version": 3
   },
   "file_extension": ".py",
   "mimetype": "text/x-python",
   "name": "python",
   "nbconvert_exporter": "python",
   "pygments_lexer": "ipython3",
   "version": "3.7.3"
  }
 },
 "nbformat": 4,
 "nbformat_minor": 2
}
