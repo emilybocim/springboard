{
 "cells": [
  {
   "cell_type": "markdown",
   "metadata": {},
   "source": [
    "# 1. Imports"
   ]
  },
  {
   "cell_type": "code",
   "execution_count": 1,
   "metadata": {},
   "outputs": [],
   "source": [
    "#General\n",
    "import pandas as pd\n",
    "import numpy as np\n",
    "\n",
    "#Visualization\n",
    "import matplotlib.pyplot as plt\n",
    "\n",
    "#Preprocessing\n",
    "from sklearn.model_selection        import train_test_split\n",
    "from sklearn.preprocessing          import StandardScaler\n",
    "from sklearn                        import preprocessing\n",
    "\n",
    "#Metrics\n",
    "from sklearn.metrics                import r2_score, mean_squared_error\n",
    "from sklearn.model_selection        import cross_val_score, cross_val_predict\n",
    "from sklearn.metrics                import confusion_matrix\n",
    "from sklearn.metrics                import explained_variance_score\n",
    "\n",
    "#Models\n",
    "from sklearn.linear_model           import LinearRegression\n",
    "from sklearn                        import linear_model\n",
    "from sklearn.linear_model           import Ridge\n",
    "from sklearn.tree                   import DecisionTreeRegressor\n",
    "from sklearn.svm                    import SVR\n",
    "from sklearn.ensemble               import RandomForestRegressor"
   ]
  },
  {
   "cell_type": "markdown",
   "metadata": {},
   "source": [
    "# 2. Load Data"
   ]
  },
  {
   "cell_type": "code",
   "execution_count": 2,
   "metadata": {},
   "outputs": [],
   "source": [
    "#Load the file generated from EDA.\n",
    "file = 'Asteroid_EDA_Clean.csv'\n",
    "df = pd.read_csv(file, sep=',', index_col=0)"
   ]
  },
  {
   "cell_type": "code",
   "execution_count": 3,
   "metadata": {},
   "outputs": [
    {
     "data": {
      "text/html": [
       "<div>\n",
       "<style scoped>\n",
       "    .dataframe tbody tr th:only-of-type {\n",
       "        vertical-align: middle;\n",
       "    }\n",
       "\n",
       "    .dataframe tbody tr th {\n",
       "        vertical-align: top;\n",
       "    }\n",
       "\n",
       "    .dataframe thead th {\n",
       "        text-align: right;\n",
       "    }\n",
       "</style>\n",
       "<table border=\"1\" class=\"dataframe\">\n",
       "  <thead>\n",
       "    <tr style=\"text-align: right;\">\n",
       "      <th></th>\n",
       "      <th>0</th>\n",
       "      <th>1</th>\n",
       "      <th>2</th>\n",
       "      <th>3</th>\n",
       "      <th>4</th>\n",
       "    </tr>\n",
       "  </thead>\n",
       "  <tbody>\n",
       "    <tr>\n",
       "      <th>semi-major_axis(au)</th>\n",
       "      <td>2.76917</td>\n",
       "      <td>2.77247</td>\n",
       "      <td>2.66915</td>\n",
       "      <td>2.36142</td>\n",
       "      <td>2.57425</td>\n",
       "    </tr>\n",
       "    <tr>\n",
       "      <th>eccentricity</th>\n",
       "      <td>0.076009</td>\n",
       "      <td>0.230337</td>\n",
       "      <td>0.256942</td>\n",
       "      <td>0.0887215</td>\n",
       "      <td>0.191095</td>\n",
       "    </tr>\n",
       "    <tr>\n",
       "      <th>x-y_inclination(deg)</th>\n",
       "      <td>10.5941</td>\n",
       "      <td>34.8362</td>\n",
       "      <td>12.9889</td>\n",
       "      <td>7.14177</td>\n",
       "      <td>5.36699</td>\n",
       "    </tr>\n",
       "    <tr>\n",
       "      <th>longitude_asc_node</th>\n",
       "      <td>80.3055</td>\n",
       "      <td>173.08</td>\n",
       "      <td>169.853</td>\n",
       "      <td>103.811</td>\n",
       "      <td>141.577</td>\n",
       "    </tr>\n",
       "    <tr>\n",
       "      <th>argument_perihelion</th>\n",
       "      <td>73.5977</td>\n",
       "      <td>310.049</td>\n",
       "      <td>248.139</td>\n",
       "      <td>150.729</td>\n",
       "      <td>358.688</td>\n",
       "    </tr>\n",
       "    <tr>\n",
       "      <th>perihelion_dist(au)</th>\n",
       "      <td>2.55868</td>\n",
       "      <td>2.13386</td>\n",
       "      <td>1.98333</td>\n",
       "      <td>2.15191</td>\n",
       "      <td>2.08232</td>\n",
       "    </tr>\n",
       "    <tr>\n",
       "      <th>aphelion_dist(au)</th>\n",
       "      <td>2.97965</td>\n",
       "      <td>3.41107</td>\n",
       "      <td>3.35497</td>\n",
       "      <td>2.57093</td>\n",
       "      <td>3.06617</td>\n",
       "    </tr>\n",
       "    <tr>\n",
       "      <th>data_arc(d)</th>\n",
       "      <td>8822</td>\n",
       "      <td>72318</td>\n",
       "      <td>72684</td>\n",
       "      <td>24288</td>\n",
       "      <td>63507</td>\n",
       "    </tr>\n",
       "    <tr>\n",
       "      <th>n_obs_used</th>\n",
       "      <td>1002</td>\n",
       "      <td>8490</td>\n",
       "      <td>7104</td>\n",
       "      <td>9325</td>\n",
       "      <td>2916</td>\n",
       "    </tr>\n",
       "    <tr>\n",
       "      <th>diameter</th>\n",
       "      <td>939.4</td>\n",
       "      <td>545</td>\n",
       "      <td>246.596</td>\n",
       "      <td>525.4</td>\n",
       "      <td>106.699</td>\n",
       "    </tr>\n",
       "    <tr>\n",
       "      <th>class</th>\n",
       "      <td>MBA</td>\n",
       "      <td>MBA</td>\n",
       "      <td>MBA</td>\n",
       "      <td>MBA</td>\n",
       "      <td>MBA</td>\n",
       "    </tr>\n",
       "    <tr>\n",
       "      <th>mean_motion(deg/d)</th>\n",
       "      <td>0.213885</td>\n",
       "      <td>0.213503</td>\n",
       "      <td>0.226019</td>\n",
       "      <td>0.271609</td>\n",
       "      <td>0.238632</td>\n",
       "    </tr>\n",
       "    <tr>\n",
       "      <th>orbital_period(d)</th>\n",
       "      <td>1683.15</td>\n",
       "      <td>1686.16</td>\n",
       "      <td>1592.79</td>\n",
       "      <td>1325.43</td>\n",
       "      <td>1508.6</td>\n",
       "    </tr>\n",
       "    <tr>\n",
       "      <th>mean_anomaly(deg)</th>\n",
       "      <td>77.3721</td>\n",
       "      <td>59.6991</td>\n",
       "      <td>34.925</td>\n",
       "      <td>95.8619</td>\n",
       "      <td>282.366</td>\n",
       "    </tr>\n",
       "  </tbody>\n",
       "</table>\n",
       "</div>"
      ],
      "text/plain": [
       "                             0         1         2          3         4\n",
       "semi-major_axis(au)    2.76917   2.77247   2.66915    2.36142   2.57425\n",
       "eccentricity          0.076009  0.230337  0.256942  0.0887215  0.191095\n",
       "x-y_inclination(deg)   10.5941   34.8362   12.9889    7.14177   5.36699\n",
       "longitude_asc_node     80.3055    173.08   169.853    103.811   141.577\n",
       "argument_perihelion    73.5977   310.049   248.139    150.729   358.688\n",
       "perihelion_dist(au)    2.55868   2.13386   1.98333    2.15191   2.08232\n",
       "aphelion_dist(au)      2.97965   3.41107   3.35497    2.57093   3.06617\n",
       "data_arc(d)               8822     72318     72684      24288     63507\n",
       "n_obs_used                1002      8490      7104       9325      2916\n",
       "diameter                 939.4       545   246.596      525.4   106.699\n",
       "class                      MBA       MBA       MBA        MBA       MBA\n",
       "mean_motion(deg/d)    0.213885  0.213503  0.226019   0.271609  0.238632\n",
       "orbital_period(d)      1683.15   1686.16   1592.79    1325.43    1508.6\n",
       "mean_anomaly(deg)      77.3721   59.6991    34.925    95.8619   282.366"
      ]
     },
     "execution_count": 3,
     "metadata": {},
     "output_type": "execute_result"
    }
   ],
   "source": [
    "#Verify that the data loaded correctly.\n",
    "df.head().T"
   ]
  },
  {
   "cell_type": "markdown",
   "metadata": {},
   "source": [
    "# 3. Feature Engineering"
   ]
  },
  {
   "cell_type": "code",
   "execution_count": 4,
   "metadata": {},
   "outputs": [
    {
     "data": {
      "text/html": [
       "<div>\n",
       "<style scoped>\n",
       "    .dataframe tbody tr th:only-of-type {\n",
       "        vertical-align: middle;\n",
       "    }\n",
       "\n",
       "    .dataframe tbody tr th {\n",
       "        vertical-align: top;\n",
       "    }\n",
       "\n",
       "    .dataframe thead th {\n",
       "        text-align: right;\n",
       "    }\n",
       "</style>\n",
       "<table border=\"1\" class=\"dataframe\">\n",
       "  <thead>\n",
       "    <tr style=\"text-align: right;\">\n",
       "      <th></th>\n",
       "      <th>0</th>\n",
       "      <th>1</th>\n",
       "      <th>2</th>\n",
       "      <th>3</th>\n",
       "      <th>4</th>\n",
       "    </tr>\n",
       "  </thead>\n",
       "  <tbody>\n",
       "    <tr>\n",
       "      <th>class</th>\n",
       "      <td>MBA</td>\n",
       "      <td>MBA</td>\n",
       "      <td>MBA</td>\n",
       "      <td>MBA</td>\n",
       "      <td>MBA</td>\n",
       "    </tr>\n",
       "  </tbody>\n",
       "</table>\n",
       "</div>"
      ],
      "text/plain": [
       "         0    1    2    3    4\n",
       "class  MBA  MBA  MBA  MBA  MBA"
      ]
     },
     "execution_count": 4,
     "metadata": {},
     "output_type": "execute_result"
    }
   ],
   "source": [
    "#Check for categorical variables.\n",
    "df.select_dtypes(include=['object']).head().T"
   ]
  },
  {
   "cell_type": "code",
   "execution_count": 5,
   "metadata": {},
   "outputs": [],
   "source": [
    "#Create dummy variables for class.\n",
    "df = pd.get_dummies(df, columns=['class'])"
   ]
  },
  {
   "cell_type": "code",
   "execution_count": 6,
   "metadata": {},
   "outputs": [
    {
     "data": {
      "text/plain": [
       "Index(['semi-major_axis(au)', 'eccentricity', 'x-y_inclination(deg)',\n",
       "       'longitude_asc_node', 'argument_perihelion', 'perihelion_dist(au)',\n",
       "       'aphelion_dist(au)', 'data_arc(d)', 'n_obs_used', 'diameter',\n",
       "       'mean_motion(deg/d)', 'orbital_period(d)', 'mean_anomaly(deg)',\n",
       "       'class_AMO', 'class_APO', 'class_AST', 'class_ATE', 'class_CEN',\n",
       "       'class_IMB', 'class_MBA', 'class_MCA', 'class_OMB', 'class_TJN',\n",
       "       'class_TNO'],\n",
       "      dtype='object')"
      ]
     },
     "execution_count": 6,
     "metadata": {},
     "output_type": "execute_result"
    }
   ],
   "source": [
    "df.columns"
   ]
  },
  {
   "cell_type": "markdown",
   "metadata": {},
   "source": [
    "# 4. Standarize Data and Split into Training and Test Sets"
   ]
  },
  {
   "cell_type": "code",
   "execution_count": 7,
   "metadata": {},
   "outputs": [],
   "source": [
    "#Split data into features and target.\n",
    "y = df['diameter']\n",
    "X = df.drop(columns = 'diameter')"
   ]
  },
  {
   "cell_type": "code",
   "execution_count": 8,
   "metadata": {},
   "outputs": [],
   "source": [
    "#Create training and test data.\n",
    "X_train, X_test, y_train, y_test = train_test_split(\n",
    "    X, y, test_size=0.2, random_state=42)"
   ]
  },
  {
   "cell_type": "code",
   "execution_count": 9,
   "metadata": {},
   "outputs": [],
   "source": [
    "#Standarize the features\n",
    "\n",
    "scaler = preprocessing.StandardScaler().fit(X_train)\n",
    "\n",
    "X_train_scaled = scaler.transform(X_train)\n",
    "\n",
    "X_test_scaled = scaler.transform(X_test)"
   ]
  },
  {
   "cell_type": "markdown",
   "metadata": {},
   "source": [
    "# 5. Initial Models"
   ]
  },
  {
   "cell_type": "markdown",
   "metadata": {},
   "source": [
    "### 5.1 Linear Regression"
   ]
  },
  {
   "cell_type": "code",
   "execution_count": 12,
   "metadata": {},
   "outputs": [
    {
     "name": "stdout",
     "output_type": "stream",
     "text": [
      "0.45267188148068405\n"
     ]
    }
   ],
   "source": [
    "#Initial Fit\n",
    "lm = LinearRegression()\n",
    "lm.fit(X_train, y_train)\n",
    "lm_score = lm.score(X_train, y_train)\n",
    "lm_pred = lm.predict(X_test)\n",
    "\n",
    "print(lm_score)"
   ]
  },
  {
   "cell_type": "code",
   "execution_count": 15,
   "metadata": {},
   "outputs": [
    {
     "name": "stdout",
     "output_type": "stream",
     "text": [
      "Test Score:,  0.3008869955408313\n",
      "MSE:  68.58\n",
      "RMSE:  8.28\n",
      "Explained Variance Score:  0.3\n"
     ]
    }
   ],
   "source": [
    "lm_mse = mean_squared_error(y_test, lm_pred)\n",
    "lm_rmse = np.sqrt(lm_mse)\n",
    "lm_score_test = lm.score(X_test, y_test)\n",
    "\n",
    "print('Test Score:, ', lm_score_test)\n",
    "print('MSE: ',round(lm_mse,2))\n",
    "print('RMSE: ',round(lm_rmse,2))\n",
    "print('Explained Variance Score: ',round(explained_variance_score(y_test, lm_pred),2))"
   ]
  },
  {
   "cell_type": "code",
   "execution_count": 44,
   "metadata": {},
   "outputs": [
    {
     "name": "stdout",
     "output_type": "stream",
     "text": [
      "Scores:  [0.3860002  0.4965816  0.40301491 0.42120102 0.42772953]\n",
      "Mean Scores: 0.4269054516407055\n",
      "Standard Deviation of Scores:  0.037767665763228084\n"
     ]
    }
   ],
   "source": [
    "#Cross Validation\n",
    "cvx, cvxt, cvy, cvyt = train_test_split(X, y, test_size = 0.2)\n",
    "lm = LinearRegression()\n",
    "scores = cross_val_score(lm, X_train, y_train, cv = 5)\n",
    "print('Scores: ',scores)\n",
    "print('Mean Scores:',np.mean(scores))\n",
    "print('Standard Deviation of Scores: ',np.std(scores))"
   ]
  },
  {
   "cell_type": "markdown",
   "metadata": {},
   "source": [
    "### Lasso Regression"
   ]
  },
  {
   "cell_type": "code",
   "execution_count": 16,
   "metadata": {},
   "outputs": [
    {
     "name": "stdout",
     "output_type": "stream",
     "text": [
      "0.3581969631181513\n"
     ]
    }
   ],
   "source": [
    "lasso = linear_model.Lasso()\n",
    "lasso.fit(X_train, y_train)\n",
    "lasso_score = lasso.score(X_train, y_train)\n",
    "lasso_pred = lasso.predict(X_test)\n",
    "\n",
    "print(lasso_score)"
   ]
  },
  {
   "cell_type": "code",
   "execution_count": 39,
   "metadata": {},
   "outputs": [
    {
     "name": "stdout",
     "output_type": "stream",
     "text": [
      "MSE:  71.62\n",
      "RMSE:  8.46\n",
      "Explained Variance Score:  0.27\n"
     ]
    }
   ],
   "source": [
    "lasso_mse = mean_squared_error(y_test, lasso_pred)\n",
    "lasso_rmse = np.sqrt(lasso_mse)\n",
    "\n",
    "print('MSE: ',round(lasso_mse,2))\n",
    "print('RMSE: ',round(lasso_rmse,2))\n",
    "print('Explained Variance Score: ',round(explained_variance_score(y_test, lasso_pred),2))"
   ]
  },
  {
   "cell_type": "markdown",
   "metadata": {},
   "source": [
    "### Ridge Regression"
   ]
  },
  {
   "cell_type": "code",
   "execution_count": 17,
   "metadata": {},
   "outputs": [
    {
     "name": "stdout",
     "output_type": "stream",
     "text": [
      "0.3581969631181513\n"
     ]
    }
   ],
   "source": [
    "ridge = Ridge()\n",
    "ridge.fit(X_train, y_train)\n",
    "ridge_score = lasso.score(X_train, y_train)\n",
    "ridge_pred = ridge.predict(X_test)\n",
    "\n",
    "print(ridge_score)"
   ]
  },
  {
   "cell_type": "code",
   "execution_count": 31,
   "metadata": {},
   "outputs": [
    {
     "name": "stdout",
     "output_type": "stream",
     "text": [
      "68.58347970183819\n",
      "8.281514336269556\n"
     ]
    }
   ],
   "source": [
    "ridge_mse = mean_squared_error(y_test, ridge_pred)\n",
    "ridge_rmse = np.sqrt(ridge_mse)\n",
    "\n",
    "print(ridge_mse)\n",
    "print(ridge_rmse)"
   ]
  },
  {
   "cell_type": "markdown",
   "metadata": {},
   "source": [
    "### Decision Tree Regression"
   ]
  },
  {
   "cell_type": "code",
   "execution_count": 18,
   "metadata": {},
   "outputs": [
    {
     "name": "stdout",
     "output_type": "stream",
     "text": [
      "1.0\n"
     ]
    }
   ],
   "source": [
    "dtr = DecisionTreeRegressor()\n",
    "dtr.fit(X_train, y_train)\n",
    "dtr_score = dtr.score(X_train, y_train)\n",
    "dtr_pred = dtr.predict(X_test)\n",
    "\n",
    "print(dtr_score)"
   ]
  },
  {
   "cell_type": "code",
   "execution_count": 20,
   "metadata": {},
   "outputs": [
    {
     "name": "stdout",
     "output_type": "stream",
     "text": [
      "0.36808975421881274\n"
     ]
    }
   ],
   "source": [
    "dtr_score_test = dtr.score(X_test, y_test)\n",
    "print(dtr_score_test)"
   ]
  },
  {
   "cell_type": "code",
   "execution_count": 22,
   "metadata": {},
   "outputs": [
    {
     "name": "stdout",
     "output_type": "stream",
     "text": [
      "62.658323682759374\n",
      "7.915701085991017\n"
     ]
    }
   ],
   "source": [
    "dtr_mse = mean_squared_error(y_test, dtr_pred)\n",
    "dtr_rmse = np.sqrt(dtr_mse)\n",
    "\n",
    "print(dtr_mse)\n",
    "print(dtr_rmse)"
   ]
  },
  {
   "cell_type": "markdown",
   "metadata": {},
   "source": [
    "### Random Forest Regressor"
   ]
  },
  {
   "cell_type": "code",
   "execution_count": 19,
   "metadata": {},
   "outputs": [
    {
     "name": "stderr",
     "output_type": "stream",
     "text": [
      "C:\\Users\\eboci_000\\Anaconda3\\lib\\site-packages\\sklearn\\ensemble\\forest.py:245: FutureWarning: The default value of n_estimators will change from 10 in version 0.20 to 100 in 0.22.\n",
      "  \"10 in version 0.20 to 100 in 0.22.\", FutureWarning)\n"
     ]
    },
    {
     "name": "stdout",
     "output_type": "stream",
     "text": [
      "0.9434294365952536\n"
     ]
    }
   ],
   "source": [
    "rf = RandomForestRegressor()\n",
    "rf.fit(X_train, y_train)\n",
    "rf_score = rf.score(X_train, y_train)\n",
    "rf_pred = rf.predict(X_test)\n",
    "\n",
    "print(rf_score)"
   ]
  },
  {
   "cell_type": "code",
   "execution_count": 22,
   "metadata": {},
   "outputs": [
    {
     "name": "stdout",
     "output_type": "stream",
     "text": [
      "0.5316273531330014\n"
     ]
    }
   ],
   "source": [
    "rf_score_test = rf.score(X_test, y_test)\n",
    "print(rf_score_test)"
   ]
  },
  {
   "cell_type": "code",
   "execution_count": 14,
   "metadata": {},
   "outputs": [
    {
     "name": "stdout",
     "output_type": "stream",
     "text": [
      "46.568036643949796\n",
      "6.824077713797653\n"
     ]
    }
   ],
   "source": [
    "rf_mse = mean_squared_error(y_test, rf_pred)\n",
    "rf_rmse = np.sqrt(rf_mse)\n",
    "\n",
    "print(rf_mse)\n",
    "print(rf_rmse)"
   ]
  },
  {
   "cell_type": "markdown",
   "metadata": {},
   "source": [
    "### Support Vector Machines"
   ]
  },
  {
   "cell_type": "code",
   "execution_count": 15,
   "metadata": {},
   "outputs": [
    {
     "name": "stderr",
     "output_type": "stream",
     "text": [
      "C:\\Users\\eboci_000\\Anaconda3\\lib\\site-packages\\sklearn\\svm\\base.py:193: FutureWarning: The default value of gamma will change from 'auto' to 'scale' in version 0.22 to account better for unscaled features. Set gamma explicitly to 'auto' or 'scale' to avoid this warning.\n",
      "  \"avoid this warning.\", FutureWarning)\n"
     ]
    }
   ],
   "source": [
    "svr = svm.SVR()\n",
    "svr.fit(X_train, y_train)\n",
    "svr_pred = svr.predict(X_test)"
   ]
  },
  {
   "cell_type": "code",
   "execution_count": 21,
   "metadata": {},
   "outputs": [
    {
     "name": "stdout",
     "output_type": "stream",
     "text": [
      "100.22233898492509\n",
      "10.011110776778224\n"
     ]
    }
   ],
   "source": [
    "svr_mse = mean_squared_error(y_test, svr_pred)\n",
    "svr_rmse = np.sqrt(svr_mse)\n",
    "\n",
    "print(svr_mse)\n",
    "print(svr_rmse)"
   ]
  },
  {
   "cell_type": "code",
   "execution_count": null,
   "metadata": {},
   "outputs": [],
   "source": []
  }
 ],
 "metadata": {
  "kernelspec": {
   "display_name": "Python 3",
   "language": "python",
   "name": "python3"
  },
  "language_info": {
   "codemirror_mode": {
    "name": "ipython",
    "version": 3
   },
   "file_extension": ".py",
   "mimetype": "text/x-python",
   "name": "python",
   "nbconvert_exporter": "python",
   "pygments_lexer": "ipython3",
   "version": "3.7.3"
  }
 },
 "nbformat": 4,
 "nbformat_minor": 2
}
