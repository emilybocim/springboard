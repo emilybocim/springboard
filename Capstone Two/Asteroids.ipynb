{
 "cells": [
  {
   "cell_type": "markdown",
   "metadata": {},
   "source": [
    "# 1.1 Imports"
   ]
  },
  {
   "cell_type": "code",
   "execution_count": 63,
   "metadata": {},
   "outputs": [],
   "source": [
    "#Import all packages that will be used during this project.\n",
    "import pandas as pd\n",
    "import matplotlib.pyplot as plt\n",
    "import seaborn as sns"
   ]
  },
  {
   "cell_type": "markdown",
   "metadata": {},
   "source": [
    "# 2.1 Load Asteroid Data"
   ]
  },
  {
   "cell_type": "code",
   "execution_count": 2,
   "metadata": {},
   "outputs": [
    {
     "name": "stderr",
     "output_type": "stream",
     "text": [
      "C:\\Users\\eboci_000\\Anaconda3\\lib\\site-packages\\IPython\\core\\interactiveshell.py:3058: DtypeWarning: Columns (0,10,15,16,23,24) have mixed types. Specify dtype option on import or set low_memory=False.\n",
      "  interactivity=interactivity, compiler=compiler, result=result)\n"
     ]
    }
   ],
   "source": [
    "#Read File and verify that it loaded properly.\n",
    "file = 'C:/Users/eboci_000/Desktop/Springboard/springboard/Capstone Two/Asteroid_Updated.csv'\n",
    "df = pd.read_csv(file, sep=',')"
   ]
  },
  {
   "cell_type": "code",
   "execution_count": 3,
   "metadata": {},
   "outputs": [
    {
     "data": {
      "text/html": [
       "<div>\n",
       "<style scoped>\n",
       "    .dataframe tbody tr th:only-of-type {\n",
       "        vertical-align: middle;\n",
       "    }\n",
       "\n",
       "    .dataframe tbody tr th {\n",
       "        vertical-align: top;\n",
       "    }\n",
       "\n",
       "    .dataframe thead th {\n",
       "        text-align: right;\n",
       "    }\n",
       "</style>\n",
       "<table border=\"1\" class=\"dataframe\">\n",
       "  <thead>\n",
       "    <tr style=\"text-align: right;\">\n",
       "      <th></th>\n",
       "      <th>name</th>\n",
       "      <th>a</th>\n",
       "      <th>e</th>\n",
       "      <th>i</th>\n",
       "      <th>om</th>\n",
       "      <th>w</th>\n",
       "      <th>q</th>\n",
       "      <th>ad</th>\n",
       "      <th>per_y</th>\n",
       "      <th>data_arc</th>\n",
       "      <th>...</th>\n",
       "      <th>UB</th>\n",
       "      <th>IR</th>\n",
       "      <th>spec_B</th>\n",
       "      <th>spec_T</th>\n",
       "      <th>G</th>\n",
       "      <th>moid</th>\n",
       "      <th>class</th>\n",
       "      <th>n</th>\n",
       "      <th>per</th>\n",
       "      <th>ma</th>\n",
       "    </tr>\n",
       "  </thead>\n",
       "  <tbody>\n",
       "    <tr>\n",
       "      <th>0</th>\n",
       "      <td>Ceres</td>\n",
       "      <td>2.769165</td>\n",
       "      <td>0.076009</td>\n",
       "      <td>10.594067</td>\n",
       "      <td>80.305532</td>\n",
       "      <td>73.597694</td>\n",
       "      <td>2.558684</td>\n",
       "      <td>2.979647</td>\n",
       "      <td>4.608202</td>\n",
       "      <td>8822.0</td>\n",
       "      <td>...</td>\n",
       "      <td>0.426</td>\n",
       "      <td>NaN</td>\n",
       "      <td>C</td>\n",
       "      <td>G</td>\n",
       "      <td>0.12</td>\n",
       "      <td>1.59478</td>\n",
       "      <td>MBA</td>\n",
       "      <td>0.213885</td>\n",
       "      <td>1683.145708</td>\n",
       "      <td>77.372096</td>\n",
       "    </tr>\n",
       "    <tr>\n",
       "      <th>1</th>\n",
       "      <td>Pallas</td>\n",
       "      <td>2.772466</td>\n",
       "      <td>0.230337</td>\n",
       "      <td>34.836234</td>\n",
       "      <td>173.080063</td>\n",
       "      <td>310.048857</td>\n",
       "      <td>2.133865</td>\n",
       "      <td>3.411067</td>\n",
       "      <td>4.616444</td>\n",
       "      <td>72318.0</td>\n",
       "      <td>...</td>\n",
       "      <td>0.284</td>\n",
       "      <td>NaN</td>\n",
       "      <td>B</td>\n",
       "      <td>B</td>\n",
       "      <td>0.11</td>\n",
       "      <td>1.23324</td>\n",
       "      <td>MBA</td>\n",
       "      <td>0.213503</td>\n",
       "      <td>1686.155999</td>\n",
       "      <td>59.699133</td>\n",
       "    </tr>\n",
       "    <tr>\n",
       "      <th>2</th>\n",
       "      <td>Juno</td>\n",
       "      <td>2.669150</td>\n",
       "      <td>0.256942</td>\n",
       "      <td>12.988919</td>\n",
       "      <td>169.852760</td>\n",
       "      <td>248.138626</td>\n",
       "      <td>1.983332</td>\n",
       "      <td>3.354967</td>\n",
       "      <td>4.360814</td>\n",
       "      <td>72684.0</td>\n",
       "      <td>...</td>\n",
       "      <td>0.433</td>\n",
       "      <td>NaN</td>\n",
       "      <td>Sk</td>\n",
       "      <td>S</td>\n",
       "      <td>0.32</td>\n",
       "      <td>1.03454</td>\n",
       "      <td>MBA</td>\n",
       "      <td>0.226019</td>\n",
       "      <td>1592.787285</td>\n",
       "      <td>34.925016</td>\n",
       "    </tr>\n",
       "    <tr>\n",
       "      <th>3</th>\n",
       "      <td>Vesta</td>\n",
       "      <td>2.361418</td>\n",
       "      <td>0.088721</td>\n",
       "      <td>7.141771</td>\n",
       "      <td>103.810804</td>\n",
       "      <td>150.728541</td>\n",
       "      <td>2.151909</td>\n",
       "      <td>2.570926</td>\n",
       "      <td>3.628837</td>\n",
       "      <td>24288.0</td>\n",
       "      <td>...</td>\n",
       "      <td>0.492</td>\n",
       "      <td>NaN</td>\n",
       "      <td>V</td>\n",
       "      <td>V</td>\n",
       "      <td>0.32</td>\n",
       "      <td>1.13948</td>\n",
       "      <td>MBA</td>\n",
       "      <td>0.271609</td>\n",
       "      <td>1325.432765</td>\n",
       "      <td>95.861936</td>\n",
       "    </tr>\n",
       "    <tr>\n",
       "      <th>4</th>\n",
       "      <td>Astraea</td>\n",
       "      <td>2.574249</td>\n",
       "      <td>0.191095</td>\n",
       "      <td>5.366988</td>\n",
       "      <td>141.576605</td>\n",
       "      <td>358.687607</td>\n",
       "      <td>2.082324</td>\n",
       "      <td>3.066174</td>\n",
       "      <td>4.130323</td>\n",
       "      <td>63507.0</td>\n",
       "      <td>...</td>\n",
       "      <td>0.411</td>\n",
       "      <td>NaN</td>\n",
       "      <td>S</td>\n",
       "      <td>S</td>\n",
       "      <td>NaN</td>\n",
       "      <td>1.09589</td>\n",
       "      <td>MBA</td>\n",
       "      <td>0.238632</td>\n",
       "      <td>1508.600458</td>\n",
       "      <td>282.366289</td>\n",
       "    </tr>\n",
       "  </tbody>\n",
       "</table>\n",
       "<p>5 rows × 31 columns</p>\n",
       "</div>"
      ],
      "text/plain": [
       "      name         a         e          i          om           w         q  \\\n",
       "0    Ceres  2.769165  0.076009  10.594067   80.305532   73.597694  2.558684   \n",
       "1   Pallas  2.772466  0.230337  34.836234  173.080063  310.048857  2.133865   \n",
       "2     Juno  2.669150  0.256942  12.988919  169.852760  248.138626  1.983332   \n",
       "3    Vesta  2.361418  0.088721   7.141771  103.810804  150.728541  2.151909   \n",
       "4  Astraea  2.574249  0.191095   5.366988  141.576605  358.687607  2.082324   \n",
       "\n",
       "         ad     per_y  data_arc  ...     UB  IR  spec_B spec_T     G     moid  \\\n",
       "0  2.979647  4.608202    8822.0  ...  0.426 NaN       C      G  0.12  1.59478   \n",
       "1  3.411067  4.616444   72318.0  ...  0.284 NaN       B      B  0.11  1.23324   \n",
       "2  3.354967  4.360814   72684.0  ...  0.433 NaN      Sk      S  0.32  1.03454   \n",
       "3  2.570926  3.628837   24288.0  ...  0.492 NaN       V      V  0.32  1.13948   \n",
       "4  3.066174  4.130323   63507.0  ...  0.411 NaN       S      S   NaN  1.09589   \n",
       "\n",
       "  class         n          per          ma  \n",
       "0   MBA  0.213885  1683.145708   77.372096  \n",
       "1   MBA  0.213503  1686.155999   59.699133  \n",
       "2   MBA  0.226019  1592.787285   34.925016  \n",
       "3   MBA  0.271609  1325.432765   95.861936  \n",
       "4   MBA  0.238632  1508.600458  282.366289  \n",
       "\n",
       "[5 rows x 31 columns]"
      ]
     },
     "execution_count": 3,
     "metadata": {},
     "output_type": "execute_result"
    }
   ],
   "source": [
    "#Verify that the data loaded correctly.\n",
    "df.head()"
   ]
  },
  {
   "cell_type": "markdown",
   "metadata": {},
   "source": [
    "# 3.1 Data Exploration and Inital Cleaning"
   ]
  },
  {
   "cell_type": "markdown",
   "metadata": {},
   "source": [
    "### 3.2 Columns"
   ]
  },
  {
   "cell_type": "code",
   "execution_count": 4,
   "metadata": {},
   "outputs": [
    {
     "data": {
      "text/plain": [
       "Index(['name', 'a', 'e', 'i', 'om', 'w', 'q', 'ad', 'per_y', 'data_arc',\n",
       "       'condition_code', 'n_obs_used', 'H', 'neo', 'pha', 'diameter', 'extent',\n",
       "       'albedo', 'rot_per', 'GM', 'BV', 'UB', 'IR', 'spec_B', 'spec_T', 'G',\n",
       "       'moid', 'class', 'n', 'per', 'ma'],\n",
       "      dtype='object')"
      ]
     },
     "execution_count": 4,
     "metadata": {},
     "output_type": "execute_result"
    }
   ],
   "source": [
    "df.columns"
   ]
  },
  {
   "cell_type": "markdown",
   "metadata": {},
   "source": [
    "Columns may need to be relabled for clarification."
   ]
  },
  {
   "cell_type": "markdown",
   "metadata": {},
   "source": [
    "### 3.3 Missing Values"
   ]
  },
  {
   "cell_type": "markdown",
   "metadata": {},
   "source": [
    "#### 3.3.1 Initial Percentages"
   ]
  },
  {
   "cell_type": "code",
   "execution_count": 6,
   "metadata": {},
   "outputs": [
    {
     "data": {
      "text/html": [
       "<div>\n",
       "<style scoped>\n",
       "    .dataframe tbody tr th:only-of-type {\n",
       "        vertical-align: middle;\n",
       "    }\n",
       "\n",
       "    .dataframe tbody tr th {\n",
       "        vertical-align: top;\n",
       "    }\n",
       "\n",
       "    .dataframe thead th {\n",
       "        text-align: right;\n",
       "    }\n",
       "</style>\n",
       "<table border=\"1\" class=\"dataframe\">\n",
       "  <thead>\n",
       "    <tr style=\"text-align: right;\">\n",
       "      <th></th>\n",
       "      <th>count</th>\n",
       "      <th>%</th>\n",
       "    </tr>\n",
       "  </thead>\n",
       "  <tbody>\n",
       "    <tr>\n",
       "      <th>e</th>\n",
       "      <td>0</td>\n",
       "      <td>0.000000</td>\n",
       "    </tr>\n",
       "    <tr>\n",
       "      <th>i</th>\n",
       "      <td>0</td>\n",
       "      <td>0.000000</td>\n",
       "    </tr>\n",
       "    <tr>\n",
       "      <th>om</th>\n",
       "      <td>0</td>\n",
       "      <td>0.000000</td>\n",
       "    </tr>\n",
       "    <tr>\n",
       "      <th>w</th>\n",
       "      <td>0</td>\n",
       "      <td>0.000000</td>\n",
       "    </tr>\n",
       "    <tr>\n",
       "      <th>q</th>\n",
       "      <td>0</td>\n",
       "      <td>0.000000</td>\n",
       "    </tr>\n",
       "    <tr>\n",
       "      <th>class</th>\n",
       "      <td>0</td>\n",
       "      <td>0.000000</td>\n",
       "    </tr>\n",
       "    <tr>\n",
       "      <th>n_obs_used</th>\n",
       "      <td>0</td>\n",
       "      <td>0.000000</td>\n",
       "    </tr>\n",
       "    <tr>\n",
       "      <th>per_y</th>\n",
       "      <td>1</td>\n",
       "      <td>0.000119</td>\n",
       "    </tr>\n",
       "    <tr>\n",
       "      <th>a</th>\n",
       "      <td>2</td>\n",
       "      <td>0.000238</td>\n",
       "    </tr>\n",
       "    <tr>\n",
       "      <th>n</th>\n",
       "      <td>2</td>\n",
       "      <td>0.000238</td>\n",
       "    </tr>\n",
       "    <tr>\n",
       "      <th>ad</th>\n",
       "      <td>6</td>\n",
       "      <td>0.000715</td>\n",
       "    </tr>\n",
       "    <tr>\n",
       "      <th>neo</th>\n",
       "      <td>6</td>\n",
       "      <td>0.000715</td>\n",
       "    </tr>\n",
       "    <tr>\n",
       "      <th>per</th>\n",
       "      <td>6</td>\n",
       "      <td>0.000715</td>\n",
       "    </tr>\n",
       "    <tr>\n",
       "      <th>ma</th>\n",
       "      <td>8</td>\n",
       "      <td>0.000953</td>\n",
       "    </tr>\n",
       "    <tr>\n",
       "      <th>condition_code</th>\n",
       "      <td>867</td>\n",
       "      <td>0.103249</td>\n",
       "    </tr>\n",
       "    <tr>\n",
       "      <th>H</th>\n",
       "      <td>2689</td>\n",
       "      <td>0.320228</td>\n",
       "    </tr>\n",
       "    <tr>\n",
       "      <th>data_arc</th>\n",
       "      <td>15474</td>\n",
       "      <td>1.842770</td>\n",
       "    </tr>\n",
       "    <tr>\n",
       "      <th>pha</th>\n",
       "      <td>16442</td>\n",
       "      <td>1.958048</td>\n",
       "    </tr>\n",
       "    <tr>\n",
       "      <th>moid</th>\n",
       "      <td>16442</td>\n",
       "      <td>1.958048</td>\n",
       "    </tr>\n",
       "    <tr>\n",
       "      <th>diameter</th>\n",
       "      <td>702078</td>\n",
       "      <td>83.609181</td>\n",
       "    </tr>\n",
       "    <tr>\n",
       "      <th>albedo</th>\n",
       "      <td>703305</td>\n",
       "      <td>83.755302</td>\n",
       "    </tr>\n",
       "    <tr>\n",
       "      <th>name</th>\n",
       "      <td>817747</td>\n",
       "      <td>97.383990</td>\n",
       "    </tr>\n",
       "    <tr>\n",
       "      <th>rot_per</th>\n",
       "      <td>820918</td>\n",
       "      <td>97.761619</td>\n",
       "    </tr>\n",
       "    <tr>\n",
       "      <th>spec_B</th>\n",
       "      <td>838048</td>\n",
       "      <td>99.801599</td>\n",
       "    </tr>\n",
       "    <tr>\n",
       "      <th>BV</th>\n",
       "      <td>838693</td>\n",
       "      <td>99.878411</td>\n",
       "    </tr>\n",
       "    <tr>\n",
       "      <th>spec_T</th>\n",
       "      <td>838734</td>\n",
       "      <td>99.883294</td>\n",
       "    </tr>\n",
       "    <tr>\n",
       "      <th>UB</th>\n",
       "      <td>838735</td>\n",
       "      <td>99.883413</td>\n",
       "    </tr>\n",
       "    <tr>\n",
       "      <th>G</th>\n",
       "      <td>839595</td>\n",
       "      <td>99.985829</td>\n",
       "    </tr>\n",
       "    <tr>\n",
       "      <th>extent</th>\n",
       "      <td>839696</td>\n",
       "      <td>99.997856</td>\n",
       "    </tr>\n",
       "    <tr>\n",
       "      <th>GM</th>\n",
       "      <td>839700</td>\n",
       "      <td>99.998333</td>\n",
       "    </tr>\n",
       "    <tr>\n",
       "      <th>IR</th>\n",
       "      <td>839713</td>\n",
       "      <td>99.999881</td>\n",
       "    </tr>\n",
       "  </tbody>\n",
       "</table>\n",
       "</div>"
      ],
      "text/plain": [
       "                 count          %\n",
       "e                    0   0.000000\n",
       "i                    0   0.000000\n",
       "om                   0   0.000000\n",
       "w                    0   0.000000\n",
       "q                    0   0.000000\n",
       "class                0   0.000000\n",
       "n_obs_used           0   0.000000\n",
       "per_y                1   0.000119\n",
       "a                    2   0.000238\n",
       "n                    2   0.000238\n",
       "ad                   6   0.000715\n",
       "neo                  6   0.000715\n",
       "per                  6   0.000715\n",
       "ma                   8   0.000953\n",
       "condition_code     867   0.103249\n",
       "H                 2689   0.320228\n",
       "data_arc         15474   1.842770\n",
       "pha              16442   1.958048\n",
       "moid             16442   1.958048\n",
       "diameter        702078  83.609181\n",
       "albedo          703305  83.755302\n",
       "name            817747  97.383990\n",
       "rot_per         820918  97.761619\n",
       "spec_B          838048  99.801599\n",
       "BV              838693  99.878411\n",
       "spec_T          838734  99.883294\n",
       "UB              838735  99.883413\n",
       "G               839595  99.985829\n",
       "extent          839696  99.997856\n",
       "GM              839700  99.998333\n",
       "IR              839713  99.999881"
      ]
     },
     "execution_count": 6,
     "metadata": {},
     "output_type": "execute_result"
    }
   ],
   "source": [
    "#Missing values percentages.\n",
    "missing= pd.concat([pd.isnull(df).sum(), 100 * pd.isnull(df).mean()], axis=1)\n",
    "missing.columns=['count', '%']\n",
    "missing.sort_values(by=['count'])"
   ]
  },
  {
   "cell_type": "code",
   "execution_count": 7,
   "metadata": {},
   "outputs": [
    {
     "data": {
      "text/plain": [
       "839714"
      ]
     },
     "execution_count": 7,
     "metadata": {},
     "output_type": "execute_result"
    }
   ],
   "source": [
    "#The target feature has a significant number of missing values.\n",
    "#If those rows are removed, is there still enough information to work with?\n",
    "\n",
    "total_rows = len(df.index)\n",
    "total_rows"
   ]
  },
  {
   "cell_type": "code",
   "execution_count": 8,
   "metadata": {},
   "outputs": [
    {
     "data": {
      "text/plain": [
       "137636"
      ]
     },
     "execution_count": 8,
     "metadata": {},
     "output_type": "execute_result"
    }
   ],
   "source": [
    "#Calculate the number of non-null diameters.\n",
    "valid_rows = df['diameter'].notnull().sum()\n",
    "valid_rows"
   ]
  },
  {
   "cell_type": "markdown",
   "metadata": {},
   "source": [
    "Even if all rows with missing diameters are removed, there are a significant number of records to work with."
   ]
  },
  {
   "cell_type": "code",
   "execution_count": 9,
   "metadata": {},
   "outputs": [
    {
     "data": {
      "text/plain": [
       "137636"
      ]
     },
     "execution_count": 9,
     "metadata": {},
     "output_type": "execute_result"
    }
   ],
   "source": [
    "#Remove rows with missing diameter.\n",
    "df = df.dropna(axis=0, subset=['diameter'])\n",
    "\n",
    "#Check that matches valid_rows.\n",
    "len(df.index)"
   ]
  },
  {
   "cell_type": "markdown",
   "metadata": {},
   "source": [
    "#### 3.3.2 New Percentages of Missing Values"
   ]
  },
  {
   "cell_type": "code",
   "execution_count": 10,
   "metadata": {},
   "outputs": [
    {
     "data": {
      "text/html": [
       "<div>\n",
       "<style scoped>\n",
       "    .dataframe tbody tr th:only-of-type {\n",
       "        vertical-align: middle;\n",
       "    }\n",
       "\n",
       "    .dataframe tbody tr th {\n",
       "        vertical-align: top;\n",
       "    }\n",
       "\n",
       "    .dataframe thead th {\n",
       "        text-align: right;\n",
       "    }\n",
       "</style>\n",
       "<table border=\"1\" class=\"dataframe\">\n",
       "  <thead>\n",
       "    <tr style=\"text-align: right;\">\n",
       "      <th></th>\n",
       "      <th>count</th>\n",
       "      <th>%</th>\n",
       "    </tr>\n",
       "  </thead>\n",
       "  <tbody>\n",
       "    <tr>\n",
       "      <th>diameter</th>\n",
       "      <td>0</td>\n",
       "      <td>0.000000</td>\n",
       "    </tr>\n",
       "    <tr>\n",
       "      <th>n</th>\n",
       "      <td>0</td>\n",
       "      <td>0.000000</td>\n",
       "    </tr>\n",
       "    <tr>\n",
       "      <th>class</th>\n",
       "      <td>0</td>\n",
       "      <td>0.000000</td>\n",
       "    </tr>\n",
       "    <tr>\n",
       "      <th>moid</th>\n",
       "      <td>0</td>\n",
       "      <td>0.000000</td>\n",
       "    </tr>\n",
       "    <tr>\n",
       "      <th>per</th>\n",
       "      <td>0</td>\n",
       "      <td>0.000000</td>\n",
       "    </tr>\n",
       "    <tr>\n",
       "      <th>pha</th>\n",
       "      <td>0</td>\n",
       "      <td>0.000000</td>\n",
       "    </tr>\n",
       "    <tr>\n",
       "      <th>neo</th>\n",
       "      <td>0</td>\n",
       "      <td>0.000000</td>\n",
       "    </tr>\n",
       "    <tr>\n",
       "      <th>n_obs_used</th>\n",
       "      <td>0</td>\n",
       "      <td>0.000000</td>\n",
       "    </tr>\n",
       "    <tr>\n",
       "      <th>condition_code</th>\n",
       "      <td>0</td>\n",
       "      <td>0.000000</td>\n",
       "    </tr>\n",
       "    <tr>\n",
       "      <th>ma</th>\n",
       "      <td>0</td>\n",
       "      <td>0.000000</td>\n",
       "    </tr>\n",
       "    <tr>\n",
       "      <th>per_y</th>\n",
       "      <td>0</td>\n",
       "      <td>0.000000</td>\n",
       "    </tr>\n",
       "    <tr>\n",
       "      <th>ad</th>\n",
       "      <td>0</td>\n",
       "      <td>0.000000</td>\n",
       "    </tr>\n",
       "    <tr>\n",
       "      <th>q</th>\n",
       "      <td>0</td>\n",
       "      <td>0.000000</td>\n",
       "    </tr>\n",
       "    <tr>\n",
       "      <th>w</th>\n",
       "      <td>0</td>\n",
       "      <td>0.000000</td>\n",
       "    </tr>\n",
       "    <tr>\n",
       "      <th>om</th>\n",
       "      <td>0</td>\n",
       "      <td>0.000000</td>\n",
       "    </tr>\n",
       "    <tr>\n",
       "      <th>a</th>\n",
       "      <td>0</td>\n",
       "      <td>0.000000</td>\n",
       "    </tr>\n",
       "    <tr>\n",
       "      <th>e</th>\n",
       "      <td>0</td>\n",
       "      <td>0.000000</td>\n",
       "    </tr>\n",
       "    <tr>\n",
       "      <th>i</th>\n",
       "      <td>0</td>\n",
       "      <td>0.000000</td>\n",
       "    </tr>\n",
       "    <tr>\n",
       "      <th>data_arc</th>\n",
       "      <td>138</td>\n",
       "      <td>0.100264</td>\n",
       "    </tr>\n",
       "    <tr>\n",
       "      <th>H</th>\n",
       "      <td>747</td>\n",
       "      <td>0.542736</td>\n",
       "    </tr>\n",
       "    <tr>\n",
       "      <th>albedo</th>\n",
       "      <td>1230</td>\n",
       "      <td>0.893662</td>\n",
       "    </tr>\n",
       "    <tr>\n",
       "      <th>name</th>\n",
       "      <td>122512</td>\n",
       "      <td>89.011596</td>\n",
       "    </tr>\n",
       "    <tr>\n",
       "      <th>rot_per</th>\n",
       "      <td>126448</td>\n",
       "      <td>91.871313</td>\n",
       "    </tr>\n",
       "    <tr>\n",
       "      <th>spec_B</th>\n",
       "      <td>136266</td>\n",
       "      <td>99.004621</td>\n",
       "    </tr>\n",
       "    <tr>\n",
       "      <th>BV</th>\n",
       "      <td>136631</td>\n",
       "      <td>99.269813</td>\n",
       "    </tr>\n",
       "    <tr>\n",
       "      <th>spec_T</th>\n",
       "      <td>136671</td>\n",
       "      <td>99.298875</td>\n",
       "    </tr>\n",
       "    <tr>\n",
       "      <th>UB</th>\n",
       "      <td>136671</td>\n",
       "      <td>99.298875</td>\n",
       "    </tr>\n",
       "    <tr>\n",
       "      <th>G</th>\n",
       "      <td>137517</td>\n",
       "      <td>99.913540</td>\n",
       "    </tr>\n",
       "    <tr>\n",
       "      <th>extent</th>\n",
       "      <td>137620</td>\n",
       "      <td>99.988375</td>\n",
       "    </tr>\n",
       "    <tr>\n",
       "      <th>GM</th>\n",
       "      <td>137622</td>\n",
       "      <td>99.989828</td>\n",
       "    </tr>\n",
       "    <tr>\n",
       "      <th>IR</th>\n",
       "      <td>137635</td>\n",
       "      <td>99.999273</td>\n",
       "    </tr>\n",
       "  </tbody>\n",
       "</table>\n",
       "</div>"
      ],
      "text/plain": [
       "                 count          %\n",
       "diameter             0   0.000000\n",
       "n                    0   0.000000\n",
       "class                0   0.000000\n",
       "moid                 0   0.000000\n",
       "per                  0   0.000000\n",
       "pha                  0   0.000000\n",
       "neo                  0   0.000000\n",
       "n_obs_used           0   0.000000\n",
       "condition_code       0   0.000000\n",
       "ma                   0   0.000000\n",
       "per_y                0   0.000000\n",
       "ad                   0   0.000000\n",
       "q                    0   0.000000\n",
       "w                    0   0.000000\n",
       "om                   0   0.000000\n",
       "a                    0   0.000000\n",
       "e                    0   0.000000\n",
       "i                    0   0.000000\n",
       "data_arc           138   0.100264\n",
       "H                  747   0.542736\n",
       "albedo            1230   0.893662\n",
       "name            122512  89.011596\n",
       "rot_per         126448  91.871313\n",
       "spec_B          136266  99.004621\n",
       "BV              136631  99.269813\n",
       "spec_T          136671  99.298875\n",
       "UB              136671  99.298875\n",
       "G               137517  99.913540\n",
       "extent          137620  99.988375\n",
       "GM              137622  99.989828\n",
       "IR              137635  99.999273"
      ]
     },
     "execution_count": 10,
     "metadata": {},
     "output_type": "execute_result"
    }
   ],
   "source": [
    "#Recheck percentage of missing values for any columns that need to be removed.\n",
    "missing= pd.concat([pd.isnull(df).sum(), 100 * pd.isnull(df).mean()], axis=1)\n",
    "missing.columns=['count', '%']\n",
    "missing.sort_values(by=['count'])"
   ]
  },
  {
   "cell_type": "markdown",
   "metadata": {},
   "source": [
    "Even after removing the missing diamter rows, there are still columns with more than half their values missing. These columns should be removed."
   ]
  },
  {
   "cell_type": "code",
   "execution_count": 11,
   "metadata": {},
   "outputs": [
    {
     "data": {
      "text/plain": [
       "19"
      ]
     },
     "execution_count": 11,
     "metadata": {},
     "output_type": "execute_result"
    }
   ],
   "source": [
    "#List of columns to drop.\n",
    "drop_list = ['H','albedo','name','rot_per','spec_B','BV','spec_T',\n",
    "            'UB','G','extent','GM','IR']\n",
    "df.drop(drop_list, axis=1, inplace=True)\n",
    "\n",
    "#There were originally 31 columns, test that there are only 19.\n",
    "len(df.columns)"
   ]
  },
  {
   "cell_type": "markdown",
   "metadata": {},
   "source": [
    "### 3.4 Data Types"
   ]
  },
  {
   "cell_type": "code",
   "execution_count": 12,
   "metadata": {},
   "outputs": [
    {
     "data": {
      "text/plain": [
       "a                 float64\n",
       "e                 float64\n",
       "i                 float64\n",
       "om                float64\n",
       "w                 float64\n",
       "q                 float64\n",
       "ad                float64\n",
       "per_y             float64\n",
       "data_arc          float64\n",
       "condition_code     object\n",
       "n_obs_used          int64\n",
       "neo                object\n",
       "pha                object\n",
       "diameter           object\n",
       "moid              float64\n",
       "class              object\n",
       "n                 float64\n",
       "per               float64\n",
       "ma                float64\n",
       "dtype: object"
      ]
     },
     "execution_count": 12,
     "metadata": {},
     "output_type": "execute_result"
    }
   ],
   "source": [
    "df.dtypes"
   ]
  },
  {
   "cell_type": "markdown",
   "metadata": {},
   "source": [
    "#### 3.4.1 Object Features"
   ]
  },
  {
   "cell_type": "code",
   "execution_count": 13,
   "metadata": {},
   "outputs": [
    {
     "data": {
      "text/html": [
       "<div>\n",
       "<style scoped>\n",
       "    .dataframe tbody tr th:only-of-type {\n",
       "        vertical-align: middle;\n",
       "    }\n",
       "\n",
       "    .dataframe tbody tr th {\n",
       "        vertical-align: top;\n",
       "    }\n",
       "\n",
       "    .dataframe thead th {\n",
       "        text-align: right;\n",
       "    }\n",
       "</style>\n",
       "<table border=\"1\" class=\"dataframe\">\n",
       "  <thead>\n",
       "    <tr style=\"text-align: right;\">\n",
       "      <th></th>\n",
       "      <th>condition_code</th>\n",
       "      <th>neo</th>\n",
       "      <th>pha</th>\n",
       "      <th>diameter</th>\n",
       "      <th>class</th>\n",
       "    </tr>\n",
       "  </thead>\n",
       "  <tbody>\n",
       "    <tr>\n",
       "      <th>0</th>\n",
       "      <td>0</td>\n",
       "      <td>N</td>\n",
       "      <td>N</td>\n",
       "      <td>939.4</td>\n",
       "      <td>MBA</td>\n",
       "    </tr>\n",
       "    <tr>\n",
       "      <th>1</th>\n",
       "      <td>0</td>\n",
       "      <td>N</td>\n",
       "      <td>N</td>\n",
       "      <td>545</td>\n",
       "      <td>MBA</td>\n",
       "    </tr>\n",
       "    <tr>\n",
       "      <th>2</th>\n",
       "      <td>0</td>\n",
       "      <td>N</td>\n",
       "      <td>N</td>\n",
       "      <td>246.596</td>\n",
       "      <td>MBA</td>\n",
       "    </tr>\n",
       "    <tr>\n",
       "      <th>3</th>\n",
       "      <td>0</td>\n",
       "      <td>N</td>\n",
       "      <td>N</td>\n",
       "      <td>525.4</td>\n",
       "      <td>MBA</td>\n",
       "    </tr>\n",
       "    <tr>\n",
       "      <th>4</th>\n",
       "      <td>0</td>\n",
       "      <td>N</td>\n",
       "      <td>N</td>\n",
       "      <td>106.699</td>\n",
       "      <td>MBA</td>\n",
       "    </tr>\n",
       "    <tr>\n",
       "      <th>...</th>\n",
       "      <td>...</td>\n",
       "      <td>...</td>\n",
       "      <td>...</td>\n",
       "      <td>...</td>\n",
       "      <td>...</td>\n",
       "    </tr>\n",
       "    <tr>\n",
       "      <th>797860</th>\n",
       "      <td>1</td>\n",
       "      <td>N</td>\n",
       "      <td>N</td>\n",
       "      <td>3.793</td>\n",
       "      <td>MBA</td>\n",
       "    </tr>\n",
       "    <tr>\n",
       "      <th>798077</th>\n",
       "      <td>2</td>\n",
       "      <td>N</td>\n",
       "      <td>N</td>\n",
       "      <td>2.696</td>\n",
       "      <td>MBA</td>\n",
       "    </tr>\n",
       "    <tr>\n",
       "      <th>798189</th>\n",
       "      <td>1</td>\n",
       "      <td>N</td>\n",
       "      <td>N</td>\n",
       "      <td>2.917</td>\n",
       "      <td>MBA</td>\n",
       "    </tr>\n",
       "    <tr>\n",
       "      <th>799752</th>\n",
       "      <td>2</td>\n",
       "      <td>N</td>\n",
       "      <td>N</td>\n",
       "      <td>3.271</td>\n",
       "      <td>MBA</td>\n",
       "    </tr>\n",
       "    <tr>\n",
       "      <th>810375</th>\n",
       "      <td>3</td>\n",
       "      <td>N</td>\n",
       "      <td>N</td>\n",
       "      <td>1.6</td>\n",
       "      <td>MBA</td>\n",
       "    </tr>\n",
       "  </tbody>\n",
       "</table>\n",
       "<p>137636 rows × 5 columns</p>\n",
       "</div>"
      ],
      "text/plain": [
       "       condition_code neo pha diameter class\n",
       "0                   0   N   N    939.4   MBA\n",
       "1                   0   N   N      545   MBA\n",
       "2                   0   N   N  246.596   MBA\n",
       "3                   0   N   N    525.4   MBA\n",
       "4                   0   N   N  106.699   MBA\n",
       "...               ...  ..  ..      ...   ...\n",
       "797860              1   N   N    3.793   MBA\n",
       "798077              2   N   N    2.696   MBA\n",
       "798189              1   N   N    2.917   MBA\n",
       "799752              2   N   N    3.271   MBA\n",
       "810375              3   N   N      1.6   MBA\n",
       "\n",
       "[137636 rows x 5 columns]"
      ]
     },
     "execution_count": 13,
     "metadata": {},
     "output_type": "execute_result"
    }
   ],
   "source": [
    "df.select_dtypes('object')"
   ]
  },
  {
   "cell_type": "markdown",
   "metadata": {},
   "source": [
    "Diameter, at this stage, should be numerical. Later on, it could be useful to have diameter categories."
   ]
  },
  {
   "cell_type": "code",
   "execution_count": 25,
   "metadata": {},
   "outputs": [
    {
     "data": {
      "text/plain": [
       "0         939.400\n",
       "1         545.000\n",
       "2         246.596\n",
       "3         525.400\n",
       "4         106.699\n",
       "           ...   \n",
       "797860      3.793\n",
       "798077      2.696\n",
       "798189      2.917\n",
       "799752      3.271\n",
       "810375      1.600\n",
       "Name: diameter, Length: 137636, dtype: float64"
      ]
     },
     "execution_count": 25,
     "metadata": {},
     "output_type": "execute_result"
    }
   ],
   "source": [
    "df.diameter.astype('float')"
   ]
  },
  {
   "cell_type": "markdown",
   "metadata": {},
   "source": [
    "Explore the unique values of the object features."
   ]
  },
  {
   "cell_type": "code",
   "execution_count": 28,
   "metadata": {},
   "outputs": [
    {
     "data": {
      "text/plain": [
       "array([0, 1, 3, 2, '0', '1', '2', '3', '4', '5', '9', '7', 5.0, 6.0, 4.0,\n",
       "       7.0, 9.0, 8.0, '8', '6'], dtype=object)"
      ]
     },
     "execution_count": 28,
     "metadata": {},
     "output_type": "execute_result"
    }
   ],
   "source": [
    "df.condition_code.unique()"
   ]
  },
  {
   "cell_type": "code",
   "execution_count": 29,
   "metadata": {},
   "outputs": [
    {
     "data": {
      "text/plain": [
       "array(['N', 'Y'], dtype=object)"
      ]
     },
     "execution_count": 29,
     "metadata": {},
     "output_type": "execute_result"
    }
   ],
   "source": [
    "df.neo.unique()"
   ]
  },
  {
   "cell_type": "code",
   "execution_count": 30,
   "metadata": {},
   "outputs": [
    {
     "data": {
      "text/plain": [
       "array(['N', 'Y'], dtype=object)"
      ]
     },
     "execution_count": 30,
     "metadata": {},
     "output_type": "execute_result"
    }
   ],
   "source": [
    "df.pha.unique()"
   ]
  },
  {
   "cell_type": "code",
   "execution_count": 32,
   "metadata": {},
   "outputs": [
    {
     "data": {
      "text/plain": [
       "array(['MBA', 'OMB', 'MCA', 'AMO', 'IMB', 'TJN', 'CEN', 'APO', 'ATE',\n",
       "       'AST', 'TNO'], dtype=object)"
      ]
     },
     "execution_count": 32,
     "metadata": {},
     "output_type": "execute_result"
    }
   ],
   "source": [
    "df['class'].unique()"
   ]
  },
  {
   "cell_type": "markdown",
   "metadata": {},
   "source": [
    "The condition code is inconsistent. It appears that it should have 10 values of the same type, but there are integers, floats, and strings. Converting it to integer type, creates consistency."
   ]
  },
  {
   "cell_type": "code",
   "execution_count": 41,
   "metadata": {},
   "outputs": [
    {
     "data": {
      "text/plain": [
       "array([0, 1, 3, 2, 4, 5, 9, 7, 6, 8], dtype=int64)"
      ]
     },
     "execution_count": 41,
     "metadata": {},
     "output_type": "execute_result"
    }
   ],
   "source": [
    "df['condition_code']=df['condition_code'].astype('int64')\n",
    "df.condition_code.unique()"
   ]
  },
  {
   "cell_type": "markdown",
   "metadata": {},
   "source": [
    "Look at how the objects are distributed. If there are only few of a type, the feature may not be important."
   ]
  },
  {
   "cell_type": "code",
   "execution_count": 42,
   "metadata": {},
   "outputs": [
    {
     "data": {
      "text/plain": [
       "N    136786\n",
       "Y       850\n",
       "Name: neo, dtype: int64"
      ]
     },
     "execution_count": 42,
     "metadata": {},
     "output_type": "execute_result"
    }
   ],
   "source": [
    "df['neo'].value_counts()"
   ]
  },
  {
   "cell_type": "code",
   "execution_count": 43,
   "metadata": {},
   "outputs": [
    {
     "data": {
      "text/plain": [
       "N    137415\n",
       "Y       221\n",
       "Name: pha, dtype: int64"
      ]
     },
     "execution_count": 43,
     "metadata": {},
     "output_type": "execute_result"
    }
   ],
   "source": [
    "df['pha'].value_counts()"
   ]
  },
  {
   "cell_type": "code",
   "execution_count": 44,
   "metadata": {},
   "outputs": [
    {
     "data": {
      "text/plain": [
       "MBA    126390\n",
       "OMB      7510\n",
       "TJN      1874\n",
       "IMB       588\n",
       "APO       486\n",
       "MCA       355\n",
       "AMO       269\n",
       "ATE        95\n",
       "CEN        49\n",
       "TNO        13\n",
       "AST         7\n",
       "Name: class, dtype: int64"
      ]
     },
     "execution_count": 44,
     "metadata": {},
     "output_type": "execute_result"
    }
   ],
   "source": [
    "df['class'].value_counts()"
   ]
  },
  {
   "cell_type": "markdown",
   "metadata": {},
   "source": [
    "There is enough variation to keep the features for now."
   ]
  },
  {
   "cell_type": "markdown",
   "metadata": {},
   "source": [
    "#### 3.4.2 Integer Features"
   ]
  },
  {
   "cell_type": "code",
   "execution_count": 14,
   "metadata": {},
   "outputs": [
    {
     "data": {
      "text/html": [
       "<div>\n",
       "<style scoped>\n",
       "    .dataframe tbody tr th:only-of-type {\n",
       "        vertical-align: middle;\n",
       "    }\n",
       "\n",
       "    .dataframe tbody tr th {\n",
       "        vertical-align: top;\n",
       "    }\n",
       "\n",
       "    .dataframe thead th {\n",
       "        text-align: right;\n",
       "    }\n",
       "</style>\n",
       "<table border=\"1\" class=\"dataframe\">\n",
       "  <thead>\n",
       "    <tr style=\"text-align: right;\">\n",
       "      <th></th>\n",
       "      <th>n_obs_used</th>\n",
       "    </tr>\n",
       "  </thead>\n",
       "  <tbody>\n",
       "    <tr>\n",
       "      <th>0</th>\n",
       "      <td>1002</td>\n",
       "    </tr>\n",
       "    <tr>\n",
       "      <th>1</th>\n",
       "      <td>8490</td>\n",
       "    </tr>\n",
       "    <tr>\n",
       "      <th>2</th>\n",
       "      <td>7104</td>\n",
       "    </tr>\n",
       "    <tr>\n",
       "      <th>3</th>\n",
       "      <td>9325</td>\n",
       "    </tr>\n",
       "    <tr>\n",
       "      <th>4</th>\n",
       "      <td>2916</td>\n",
       "    </tr>\n",
       "    <tr>\n",
       "      <th>...</th>\n",
       "      <td>...</td>\n",
       "    </tr>\n",
       "    <tr>\n",
       "      <th>797860</th>\n",
       "      <td>50</td>\n",
       "    </tr>\n",
       "    <tr>\n",
       "      <th>798077</th>\n",
       "      <td>33</td>\n",
       "    </tr>\n",
       "    <tr>\n",
       "      <th>798189</th>\n",
       "      <td>47</td>\n",
       "    </tr>\n",
       "    <tr>\n",
       "      <th>799752</th>\n",
       "      <td>27</td>\n",
       "    </tr>\n",
       "    <tr>\n",
       "      <th>810375</th>\n",
       "      <td>25</td>\n",
       "    </tr>\n",
       "  </tbody>\n",
       "</table>\n",
       "<p>137636 rows × 1 columns</p>\n",
       "</div>"
      ],
      "text/plain": [
       "        n_obs_used\n",
       "0             1002\n",
       "1             8490\n",
       "2             7104\n",
       "3             9325\n",
       "4             2916\n",
       "...            ...\n",
       "797860          50\n",
       "798077          33\n",
       "798189          47\n",
       "799752          27\n",
       "810375          25\n",
       "\n",
       "[137636 rows x 1 columns]"
      ]
     },
     "execution_count": 14,
     "metadata": {},
     "output_type": "execute_result"
    }
   ],
   "source": [
    "df.select_dtypes('int64')"
   ]
  },
  {
   "cell_type": "markdown",
   "metadata": {},
   "source": [
    "This is the number of observations used, so integer makes sense for this feature."
   ]
  },
  {
   "cell_type": "markdown",
   "metadata": {},
   "source": [
    "#### 3.4.3 Float Features"
   ]
  },
  {
   "cell_type": "code",
   "execution_count": 15,
   "metadata": {},
   "outputs": [
    {
     "data": {
      "text/html": [
       "<div>\n",
       "<style scoped>\n",
       "    .dataframe tbody tr th:only-of-type {\n",
       "        vertical-align: middle;\n",
       "    }\n",
       "\n",
       "    .dataframe tbody tr th {\n",
       "        vertical-align: top;\n",
       "    }\n",
       "\n",
       "    .dataframe thead th {\n",
       "        text-align: right;\n",
       "    }\n",
       "</style>\n",
       "<table border=\"1\" class=\"dataframe\">\n",
       "  <thead>\n",
       "    <tr style=\"text-align: right;\">\n",
       "      <th></th>\n",
       "      <th>a</th>\n",
       "      <th>e</th>\n",
       "      <th>i</th>\n",
       "      <th>om</th>\n",
       "      <th>w</th>\n",
       "      <th>q</th>\n",
       "      <th>ad</th>\n",
       "      <th>per_y</th>\n",
       "      <th>data_arc</th>\n",
       "      <th>moid</th>\n",
       "      <th>n</th>\n",
       "      <th>per</th>\n",
       "      <th>ma</th>\n",
       "    </tr>\n",
       "  </thead>\n",
       "  <tbody>\n",
       "    <tr>\n",
       "      <th>0</th>\n",
       "      <td>2.769165</td>\n",
       "      <td>0.076009</td>\n",
       "      <td>10.594067</td>\n",
       "      <td>80.305532</td>\n",
       "      <td>73.597694</td>\n",
       "      <td>2.558684</td>\n",
       "      <td>2.979647</td>\n",
       "      <td>4.608202</td>\n",
       "      <td>8822.0</td>\n",
       "      <td>1.59478</td>\n",
       "      <td>0.213885</td>\n",
       "      <td>1683.145708</td>\n",
       "      <td>77.372096</td>\n",
       "    </tr>\n",
       "    <tr>\n",
       "      <th>1</th>\n",
       "      <td>2.772466</td>\n",
       "      <td>0.230337</td>\n",
       "      <td>34.836234</td>\n",
       "      <td>173.080063</td>\n",
       "      <td>310.048857</td>\n",
       "      <td>2.133865</td>\n",
       "      <td>3.411067</td>\n",
       "      <td>4.616444</td>\n",
       "      <td>72318.0</td>\n",
       "      <td>1.23324</td>\n",
       "      <td>0.213503</td>\n",
       "      <td>1686.155999</td>\n",
       "      <td>59.699133</td>\n",
       "    </tr>\n",
       "    <tr>\n",
       "      <th>2</th>\n",
       "      <td>2.669150</td>\n",
       "      <td>0.256942</td>\n",
       "      <td>12.988919</td>\n",
       "      <td>169.852760</td>\n",
       "      <td>248.138626</td>\n",
       "      <td>1.983332</td>\n",
       "      <td>3.354967</td>\n",
       "      <td>4.360814</td>\n",
       "      <td>72684.0</td>\n",
       "      <td>1.03454</td>\n",
       "      <td>0.226019</td>\n",
       "      <td>1592.787285</td>\n",
       "      <td>34.925016</td>\n",
       "    </tr>\n",
       "    <tr>\n",
       "      <th>3</th>\n",
       "      <td>2.361418</td>\n",
       "      <td>0.088721</td>\n",
       "      <td>7.141771</td>\n",
       "      <td>103.810804</td>\n",
       "      <td>150.728541</td>\n",
       "      <td>2.151909</td>\n",
       "      <td>2.570926</td>\n",
       "      <td>3.628837</td>\n",
       "      <td>24288.0</td>\n",
       "      <td>1.13948</td>\n",
       "      <td>0.271609</td>\n",
       "      <td>1325.432765</td>\n",
       "      <td>95.861936</td>\n",
       "    </tr>\n",
       "    <tr>\n",
       "      <th>4</th>\n",
       "      <td>2.574249</td>\n",
       "      <td>0.191095</td>\n",
       "      <td>5.366988</td>\n",
       "      <td>141.576605</td>\n",
       "      <td>358.687607</td>\n",
       "      <td>2.082324</td>\n",
       "      <td>3.066174</td>\n",
       "      <td>4.130323</td>\n",
       "      <td>63507.0</td>\n",
       "      <td>1.09589</td>\n",
       "      <td>0.238632</td>\n",
       "      <td>1508.600458</td>\n",
       "      <td>282.366289</td>\n",
       "    </tr>\n",
       "    <tr>\n",
       "      <th>...</th>\n",
       "      <td>...</td>\n",
       "      <td>...</td>\n",
       "      <td>...</td>\n",
       "      <td>...</td>\n",
       "      <td>...</td>\n",
       "      <td>...</td>\n",
       "      <td>...</td>\n",
       "      <td>...</td>\n",
       "      <td>...</td>\n",
       "      <td>...</td>\n",
       "      <td>...</td>\n",
       "      <td>...</td>\n",
       "      <td>...</td>\n",
       "    </tr>\n",
       "    <tr>\n",
       "      <th>797860</th>\n",
       "      <td>3.171225</td>\n",
       "      <td>0.159119</td>\n",
       "      <td>27.098625</td>\n",
       "      <td>309.036573</td>\n",
       "      <td>19.746812</td>\n",
       "      <td>2.666623</td>\n",
       "      <td>3.675826</td>\n",
       "      <td>5.647402</td>\n",
       "      <td>2373.0</td>\n",
       "      <td>1.66301</td>\n",
       "      <td>0.174527</td>\n",
       "      <td>2062.713583</td>\n",
       "      <td>164.999439</td>\n",
       "    </tr>\n",
       "    <tr>\n",
       "      <th>798077</th>\n",
       "      <td>2.548410</td>\n",
       "      <td>0.076071</td>\n",
       "      <td>11.593237</td>\n",
       "      <td>246.298656</td>\n",
       "      <td>170.090810</td>\n",
       "      <td>2.354549</td>\n",
       "      <td>2.742270</td>\n",
       "      <td>4.068291</td>\n",
       "      <td>3297.0</td>\n",
       "      <td>1.36733</td>\n",
       "      <td>0.242270</td>\n",
       "      <td>1485.943371</td>\n",
       "      <td>145.319581</td>\n",
       "    </tr>\n",
       "    <tr>\n",
       "      <th>798189</th>\n",
       "      <td>3.146246</td>\n",
       "      <td>0.220559</td>\n",
       "      <td>17.966646</td>\n",
       "      <td>137.981403</td>\n",
       "      <td>180.898833</td>\n",
       "      <td>2.452313</td>\n",
       "      <td>3.840180</td>\n",
       "      <td>5.580811</td>\n",
       "      <td>2839.0</td>\n",
       "      <td>1.43837</td>\n",
       "      <td>0.176610</td>\n",
       "      <td>2038.391053</td>\n",
       "      <td>174.609920</td>\n",
       "    </tr>\n",
       "    <tr>\n",
       "      <th>799752</th>\n",
       "      <td>3.051336</td>\n",
       "      <td>0.287449</td>\n",
       "      <td>14.456779</td>\n",
       "      <td>343.917822</td>\n",
       "      <td>342.614839</td>\n",
       "      <td>2.174231</td>\n",
       "      <td>3.928440</td>\n",
       "      <td>5.330196</td>\n",
       "      <td>2208.0</td>\n",
       "      <td>1.16684</td>\n",
       "      <td>0.184914</td>\n",
       "      <td>1946.853973</td>\n",
       "      <td>175.708508</td>\n",
       "    </tr>\n",
       "    <tr>\n",
       "      <th>810375</th>\n",
       "      <td>2.417477</td>\n",
       "      <td>0.109001</td>\n",
       "      <td>4.525668</td>\n",
       "      <td>148.244819</td>\n",
       "      <td>31.949854</td>\n",
       "      <td>2.153970</td>\n",
       "      <td>2.680984</td>\n",
       "      <td>3.758822</td>\n",
       "      <td>3458.0</td>\n",
       "      <td>1.15942</td>\n",
       "      <td>0.262217</td>\n",
       "      <td>1372.909600</td>\n",
       "      <td>170.888415</td>\n",
       "    </tr>\n",
       "  </tbody>\n",
       "</table>\n",
       "<p>137636 rows × 13 columns</p>\n",
       "</div>"
      ],
      "text/plain": [
       "               a         e          i          om           w         q  \\\n",
       "0       2.769165  0.076009  10.594067   80.305532   73.597694  2.558684   \n",
       "1       2.772466  0.230337  34.836234  173.080063  310.048857  2.133865   \n",
       "2       2.669150  0.256942  12.988919  169.852760  248.138626  1.983332   \n",
       "3       2.361418  0.088721   7.141771  103.810804  150.728541  2.151909   \n",
       "4       2.574249  0.191095   5.366988  141.576605  358.687607  2.082324   \n",
       "...          ...       ...        ...         ...         ...       ...   \n",
       "797860  3.171225  0.159119  27.098625  309.036573   19.746812  2.666623   \n",
       "798077  2.548410  0.076071  11.593237  246.298656  170.090810  2.354549   \n",
       "798189  3.146246  0.220559  17.966646  137.981403  180.898833  2.452313   \n",
       "799752  3.051336  0.287449  14.456779  343.917822  342.614839  2.174231   \n",
       "810375  2.417477  0.109001   4.525668  148.244819   31.949854  2.153970   \n",
       "\n",
       "              ad     per_y  data_arc     moid         n          per  \\\n",
       "0       2.979647  4.608202    8822.0  1.59478  0.213885  1683.145708   \n",
       "1       3.411067  4.616444   72318.0  1.23324  0.213503  1686.155999   \n",
       "2       3.354967  4.360814   72684.0  1.03454  0.226019  1592.787285   \n",
       "3       2.570926  3.628837   24288.0  1.13948  0.271609  1325.432765   \n",
       "4       3.066174  4.130323   63507.0  1.09589  0.238632  1508.600458   \n",
       "...          ...       ...       ...      ...       ...          ...   \n",
       "797860  3.675826  5.647402    2373.0  1.66301  0.174527  2062.713583   \n",
       "798077  2.742270  4.068291    3297.0  1.36733  0.242270  1485.943371   \n",
       "798189  3.840180  5.580811    2839.0  1.43837  0.176610  2038.391053   \n",
       "799752  3.928440  5.330196    2208.0  1.16684  0.184914  1946.853973   \n",
       "810375  2.680984  3.758822    3458.0  1.15942  0.262217  1372.909600   \n",
       "\n",
       "                ma  \n",
       "0        77.372096  \n",
       "1        59.699133  \n",
       "2        34.925016  \n",
       "3        95.861936  \n",
       "4       282.366289  \n",
       "...            ...  \n",
       "797860  164.999439  \n",
       "798077  145.319581  \n",
       "798189  174.609920  \n",
       "799752  175.708508  \n",
       "810375  170.888415  \n",
       "\n",
       "[137636 rows x 13 columns]"
      ]
     },
     "execution_count": 15,
     "metadata": {},
     "output_type": "execute_result"
    }
   ],
   "source": [
    "df.select_dtypes('float64')"
   ]
  },
  {
   "cell_type": "markdown",
   "metadata": {},
   "source": [
    "There does not appear to be any issues with types for these columns. Explore it further."
   ]
  },
  {
   "cell_type": "code",
   "execution_count": 45,
   "metadata": {},
   "outputs": [
    {
     "data": {
      "text/html": [
       "<div>\n",
       "<style scoped>\n",
       "    .dataframe tbody tr th:only-of-type {\n",
       "        vertical-align: middle;\n",
       "    }\n",
       "\n",
       "    .dataframe tbody tr th {\n",
       "        vertical-align: top;\n",
       "    }\n",
       "\n",
       "    .dataframe thead th {\n",
       "        text-align: right;\n",
       "    }\n",
       "</style>\n",
       "<table border=\"1\" class=\"dataframe\">\n",
       "  <thead>\n",
       "    <tr style=\"text-align: right;\">\n",
       "      <th></th>\n",
       "      <th>count</th>\n",
       "      <th>mean</th>\n",
       "      <th>std</th>\n",
       "      <th>min</th>\n",
       "      <th>25%</th>\n",
       "      <th>50%</th>\n",
       "      <th>75%</th>\n",
       "      <th>max</th>\n",
       "    </tr>\n",
       "  </thead>\n",
       "  <tbody>\n",
       "    <tr>\n",
       "      <th>a</th>\n",
       "      <td>137636.0</td>\n",
       "      <td>2.814613</td>\n",
       "      <td>1.522740</td>\n",
       "      <td>0.626226</td>\n",
       "      <td>2.536714</td>\n",
       "      <td>2.750859</td>\n",
       "      <td>3.092537</td>\n",
       "      <td>3.891460e+02</td>\n",
       "    </tr>\n",
       "    <tr>\n",
       "      <th>e</th>\n",
       "      <td>137636.0</td>\n",
       "      <td>0.145485</td>\n",
       "      <td>0.077573</td>\n",
       "      <td>0.000489</td>\n",
       "      <td>0.089623</td>\n",
       "      <td>0.138543</td>\n",
       "      <td>0.191141</td>\n",
       "      <td>9.843482e-01</td>\n",
       "    </tr>\n",
       "    <tr>\n",
       "      <th>i</th>\n",
       "      <td>137636.0</td>\n",
       "      <td>10.349182</td>\n",
       "      <td>6.835111</td>\n",
       "      <td>0.021855</td>\n",
       "      <td>5.120506</td>\n",
       "      <td>9.389963</td>\n",
       "      <td>13.738588</td>\n",
       "      <td>1.703236e+02</td>\n",
       "    </tr>\n",
       "    <tr>\n",
       "      <th>om</th>\n",
       "      <td>137636.0</td>\n",
       "      <td>169.827629</td>\n",
       "      <td>102.713052</td>\n",
       "      <td>0.000738</td>\n",
       "      <td>82.334880</td>\n",
       "      <td>160.438430</td>\n",
       "      <td>256.268387</td>\n",
       "      <td>3.599909e+02</td>\n",
       "    </tr>\n",
       "    <tr>\n",
       "      <th>w</th>\n",
       "      <td>137636.0</td>\n",
       "      <td>181.904551</td>\n",
       "      <td>103.556464</td>\n",
       "      <td>0.004466</td>\n",
       "      <td>91.947943</td>\n",
       "      <td>183.669900</td>\n",
       "      <td>271.762261</td>\n",
       "      <td>3.599952e+02</td>\n",
       "    </tr>\n",
       "    <tr>\n",
       "      <th>q</th>\n",
       "      <td>137636.0</td>\n",
       "      <td>2.402609</td>\n",
       "      <td>0.516169</td>\n",
       "      <td>0.081882</td>\n",
       "      <td>2.068948</td>\n",
       "      <td>2.363897</td>\n",
       "      <td>2.685811</td>\n",
       "      <td>4.046567e+01</td>\n",
       "    </tr>\n",
       "    <tr>\n",
       "      <th>ad</th>\n",
       "      <td>137636.0</td>\n",
       "      <td>3.226618</td>\n",
       "      <td>2.896374</td>\n",
       "      <td>0.999956</td>\n",
       "      <td>2.864438</td>\n",
       "      <td>3.167516</td>\n",
       "      <td>3.468608</td>\n",
       "      <td>7.722011e+02</td>\n",
       "    </tr>\n",
       "    <tr>\n",
       "      <th>per_y</th>\n",
       "      <td>137636.0</td>\n",
       "      <td>4.884248</td>\n",
       "      <td>25.532565</td>\n",
       "      <td>0.495569</td>\n",
       "      <td>4.040317</td>\n",
       "      <td>4.562581</td>\n",
       "      <td>5.438518</td>\n",
       "      <td>7.676743e+03</td>\n",
       "    </tr>\n",
       "    <tr>\n",
       "      <th>data_arc</th>\n",
       "      <td>137498.0</td>\n",
       "      <td>8969.818601</td>\n",
       "      <td>6165.176190</td>\n",
       "      <td>1.000000</td>\n",
       "      <td>6291.000000</td>\n",
       "      <td>7572.000000</td>\n",
       "      <td>9731.000000</td>\n",
       "      <td>7.268400e+04</td>\n",
       "    </tr>\n",
       "    <tr>\n",
       "      <th>condition_code</th>\n",
       "      <td>137636.0</td>\n",
       "      <td>0.485207</td>\n",
       "      <td>1.966078</td>\n",
       "      <td>0.000000</td>\n",
       "      <td>0.000000</td>\n",
       "      <td>0.000000</td>\n",
       "      <td>0.000000</td>\n",
       "      <td>9.000000e+00</td>\n",
       "    </tr>\n",
       "    <tr>\n",
       "      <th>n_obs_used</th>\n",
       "      <td>137636.0</td>\n",
       "      <td>675.027740</td>\n",
       "      <td>595.935104</td>\n",
       "      <td>5.000000</td>\n",
       "      <td>215.000000</td>\n",
       "      <td>496.000000</td>\n",
       "      <td>984.000000</td>\n",
       "      <td>9.325000e+03</td>\n",
       "    </tr>\n",
       "    <tr>\n",
       "      <th>moid</th>\n",
       "      <td>137636.0</td>\n",
       "      <td>1.420145</td>\n",
       "      <td>0.512241</td>\n",
       "      <td>0.000166</td>\n",
       "      <td>1.082523</td>\n",
       "      <td>1.384935</td>\n",
       "      <td>1.699385</td>\n",
       "      <td>3.950700e+01</td>\n",
       "    </tr>\n",
       "    <tr>\n",
       "      <th>n</th>\n",
       "      <td>137636.0</td>\n",
       "      <td>0.219640</td>\n",
       "      <td>0.056980</td>\n",
       "      <td>0.000128</td>\n",
       "      <td>0.181231</td>\n",
       "      <td>0.216024</td>\n",
       "      <td>0.243948</td>\n",
       "      <td>1.988877e+00</td>\n",
       "    </tr>\n",
       "    <tr>\n",
       "      <th>per</th>\n",
       "      <td>137636.0</td>\n",
       "      <td>1783.971577</td>\n",
       "      <td>9325.769218</td>\n",
       "      <td>181.006674</td>\n",
       "      <td>1475.725941</td>\n",
       "      <td>1666.482802</td>\n",
       "      <td>1986.418660</td>\n",
       "      <td>2.803930e+06</td>\n",
       "    </tr>\n",
       "    <tr>\n",
       "      <th>ma</th>\n",
       "      <td>137636.0</td>\n",
       "      <td>183.116785</td>\n",
       "      <td>103.411497</td>\n",
       "      <td>0.000517</td>\n",
       "      <td>94.301261</td>\n",
       "      <td>186.826667</td>\n",
       "      <td>271.468299</td>\n",
       "      <td>3.600000e+02</td>\n",
       "    </tr>\n",
       "  </tbody>\n",
       "</table>\n",
       "</div>"
      ],
      "text/plain": [
       "                   count         mean          std         min          25%  \\\n",
       "a               137636.0     2.814613     1.522740    0.626226     2.536714   \n",
       "e               137636.0     0.145485     0.077573    0.000489     0.089623   \n",
       "i               137636.0    10.349182     6.835111    0.021855     5.120506   \n",
       "om              137636.0   169.827629   102.713052    0.000738    82.334880   \n",
       "w               137636.0   181.904551   103.556464    0.004466    91.947943   \n",
       "q               137636.0     2.402609     0.516169    0.081882     2.068948   \n",
       "ad              137636.0     3.226618     2.896374    0.999956     2.864438   \n",
       "per_y           137636.0     4.884248    25.532565    0.495569     4.040317   \n",
       "data_arc        137498.0  8969.818601  6165.176190    1.000000  6291.000000   \n",
       "condition_code  137636.0     0.485207     1.966078    0.000000     0.000000   \n",
       "n_obs_used      137636.0   675.027740   595.935104    5.000000   215.000000   \n",
       "moid            137636.0     1.420145     0.512241    0.000166     1.082523   \n",
       "n               137636.0     0.219640     0.056980    0.000128     0.181231   \n",
       "per             137636.0  1783.971577  9325.769218  181.006674  1475.725941   \n",
       "ma              137636.0   183.116785   103.411497    0.000517    94.301261   \n",
       "\n",
       "                        50%          75%           max  \n",
       "a                  2.750859     3.092537  3.891460e+02  \n",
       "e                  0.138543     0.191141  9.843482e-01  \n",
       "i                  9.389963    13.738588  1.703236e+02  \n",
       "om               160.438430   256.268387  3.599909e+02  \n",
       "w                183.669900   271.762261  3.599952e+02  \n",
       "q                  2.363897     2.685811  4.046567e+01  \n",
       "ad                 3.167516     3.468608  7.722011e+02  \n",
       "per_y              4.562581     5.438518  7.676743e+03  \n",
       "data_arc        7572.000000  9731.000000  7.268400e+04  \n",
       "condition_code     0.000000     0.000000  9.000000e+00  \n",
       "n_obs_used       496.000000   984.000000  9.325000e+03  \n",
       "moid               1.384935     1.699385  3.950700e+01  \n",
       "n                  0.216024     0.243948  1.988877e+00  \n",
       "per             1666.482802  1986.418660  2.803930e+06  \n",
       "ma               186.826667   271.468299  3.600000e+02  "
      ]
     },
     "execution_count": 45,
     "metadata": {},
     "output_type": "execute_result"
    }
   ],
   "source": [
    "df.describe().T"
   ]
  },
  {
   "cell_type": "markdown",
   "metadata": {},
   "source": [
    "Something that stands out here is that there are still missing values for data_arc. Looking at distributions may assist in determining how to handle these values."
   ]
  },
  {
   "cell_type": "code",
   "execution_count": 62,
   "metadata": {},
   "outputs": [
    {
     "data": {
      "image/png": "[encoded data removed]",
      "text/plain": [
       "<Figure size 1440x720 with 16 Axes>"
      ]
     },
     "metadata": {
      "needs_background": "light"
     },
     "output_type": "display_data"
    }
   ],
   "source": [
    "df.hist(figsize=(20,10))\n",
    "plt.show;"
   ]
  },
  {
   "cell_type": "markdown",
   "metadata": {},
   "source": [
    "There are some concerns, where the distribution is clustered at one end. However, they could still contribute significantly to the target value. Even though some of them look like there is no variation, many of them have a max that is signifcantly higher than the rest of the records. To get a better look at some of the variables, boxplots can be used."
   ]
  },
  {
   "cell_type": "code",
   "execution_count": 64,
   "metadata": {},
   "outputs": [
    {
     "data": {
      "text/plain": [
       "<matplotlib.axes._subplots.AxesSubplot at 0x189e57edd30>"
      ]
     },
     "execution_count": 64,
     "metadata": {},
     "output_type": "execute_result"
    },
    {
     "data": {
      "image/png": "[encoded data removed]",
      "text/plain": [
       "<Figure size 432x288 with 1 Axes>"
      ]
     },
     "metadata": {
      "needs_background": "light"
     },
     "output_type": "display_data"
    }
   ],
   "source": [
    "sns.boxplot(df.data_arc)"
   ]
  },
  {
   "cell_type": "markdown",
   "metadata": {},
   "source": [
    "This helps to show how skewed data_arc is and that median is a better option for filling in the missing values, than mean."
   ]
  },
  {
   "cell_type": "code",
   "execution_count": 67,
   "metadata": {},
   "outputs": [],
   "source": [
    "df['data_arc'] = df['data_arc'].fillna(df['data_arc'].median())"
   ]
  },
  {
   "cell_type": "code",
   "execution_count": null,
   "metadata": {},
   "outputs": [],
   "source": []
  },
  {
   "cell_type": "code",
   "execution_count": null,
   "metadata": {},
   "outputs": [],
   "source": []
  }
 ],
 "metadata": {
  "kernelspec": {
   "display_name": "Python 3",
   "language": "python",
   "name": "python3"
  },
  "language_info": {
   "codemirror_mode": {
    "name": "ipython",
    "version": 3
   },
   "file_extension": ".py",
   "mimetype": "text/x-python",
   "name": "python",
   "nbconvert_exporter": "python",
   "pygments_lexer": "ipython3",
   "version": "3.7.3"
  }
 },
 "nbformat": 4,
 "nbformat_minor": 2
}
