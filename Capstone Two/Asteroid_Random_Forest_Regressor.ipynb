{
 "cells": [
  {
   "cell_type": "markdown",
   "metadata": {},
   "source": [
    "# 1. Imports"
   ]
  },
  {
   "cell_type": "code",
   "execution_count": 1,
   "metadata": {},
   "outputs": [],
   "source": [
    "import pandas as pd\n",
    "import numpy as np\n",
    "\n",
    "\n",
    "import matplotlib.pyplot            as plt\n",
    "import seaborn                      as sns\n",
    "from sklearn.preprocessing          import StandardScaler\n",
    "from sklearn                        import preprocessing, linear_model\n",
    "from sklearn.metrics                import r2_score, mean_squared_error\n",
    "from sklearn.model_selection        import train_test_split, cross_val_score,GridSearchCV\n",
    "\n",
    "#Model\n",
    "from sklearn.ensemble               import RandomForestRegressor"
   ]
  },
  {
   "cell_type": "markdown",
   "metadata": {},
   "source": [
    "# 2. Load Data"
   ]
  },
  {
   "cell_type": "code",
   "execution_count": 2,
   "metadata": {},
   "outputs": [],
   "source": [
    "#Load the file generated from EDA.\n",
    "file = 'Asteroid_EDA_Clean.csv'\n",
    "df = pd.read_csv(file, sep=',', index_col=0)"
   ]
  },
  {
   "cell_type": "code",
   "execution_count": 3,
   "metadata": {},
   "outputs": [
    {
     "data": {
      "text/html": [
       "<div>\n",
       "<style scoped>\n",
       "    .dataframe tbody tr th:only-of-type {\n",
       "        vertical-align: middle;\n",
       "    }\n",
       "\n",
       "    .dataframe tbody tr th {\n",
       "        vertical-align: top;\n",
       "    }\n",
       "\n",
       "    .dataframe thead th {\n",
       "        text-align: right;\n",
       "    }\n",
       "</style>\n",
       "<table border=\"1\" class=\"dataframe\">\n",
       "  <thead>\n",
       "    <tr style=\"text-align: right;\">\n",
       "      <th></th>\n",
       "      <th>0</th>\n",
       "      <th>1</th>\n",
       "      <th>2</th>\n",
       "      <th>3</th>\n",
       "      <th>4</th>\n",
       "    </tr>\n",
       "  </thead>\n",
       "  <tbody>\n",
       "    <tr>\n",
       "      <th>semi-major_axis(au)</th>\n",
       "      <td>2.76917</td>\n",
       "      <td>2.77247</td>\n",
       "      <td>2.66915</td>\n",
       "      <td>2.36142</td>\n",
       "      <td>2.57425</td>\n",
       "    </tr>\n",
       "    <tr>\n",
       "      <th>eccentricity</th>\n",
       "      <td>0.076009</td>\n",
       "      <td>0.230337</td>\n",
       "      <td>0.256942</td>\n",
       "      <td>0.0887215</td>\n",
       "      <td>0.191095</td>\n",
       "    </tr>\n",
       "    <tr>\n",
       "      <th>x-y_inclination(deg)</th>\n",
       "      <td>10.5941</td>\n",
       "      <td>34.8362</td>\n",
       "      <td>12.9889</td>\n",
       "      <td>7.14177</td>\n",
       "      <td>5.36699</td>\n",
       "    </tr>\n",
       "    <tr>\n",
       "      <th>longitude_asc_node</th>\n",
       "      <td>80.3055</td>\n",
       "      <td>173.08</td>\n",
       "      <td>169.853</td>\n",
       "      <td>103.811</td>\n",
       "      <td>141.577</td>\n",
       "    </tr>\n",
       "    <tr>\n",
       "      <th>argument_perihelion</th>\n",
       "      <td>73.5977</td>\n",
       "      <td>310.049</td>\n",
       "      <td>248.139</td>\n",
       "      <td>150.729</td>\n",
       "      <td>358.688</td>\n",
       "    </tr>\n",
       "    <tr>\n",
       "      <th>perihelion_dist(au)</th>\n",
       "      <td>2.55868</td>\n",
       "      <td>2.13386</td>\n",
       "      <td>1.98333</td>\n",
       "      <td>2.15191</td>\n",
       "      <td>2.08232</td>\n",
       "    </tr>\n",
       "    <tr>\n",
       "      <th>aphelion_dist(au)</th>\n",
       "      <td>2.97965</td>\n",
       "      <td>3.41107</td>\n",
       "      <td>3.35497</td>\n",
       "      <td>2.57093</td>\n",
       "      <td>3.06617</td>\n",
       "    </tr>\n",
       "    <tr>\n",
       "      <th>data_arc(d)</th>\n",
       "      <td>8822</td>\n",
       "      <td>72318</td>\n",
       "      <td>72684</td>\n",
       "      <td>24288</td>\n",
       "      <td>63507</td>\n",
       "    </tr>\n",
       "    <tr>\n",
       "      <th>n_obs_used</th>\n",
       "      <td>1002</td>\n",
       "      <td>8490</td>\n",
       "      <td>7104</td>\n",
       "      <td>9325</td>\n",
       "      <td>2916</td>\n",
       "    </tr>\n",
       "    <tr>\n",
       "      <th>diameter</th>\n",
       "      <td>939.4</td>\n",
       "      <td>545</td>\n",
       "      <td>246.596</td>\n",
       "      <td>525.4</td>\n",
       "      <td>106.699</td>\n",
       "    </tr>\n",
       "    <tr>\n",
       "      <th>class</th>\n",
       "      <td>MBA</td>\n",
       "      <td>MBA</td>\n",
       "      <td>MBA</td>\n",
       "      <td>MBA</td>\n",
       "      <td>MBA</td>\n",
       "    </tr>\n",
       "    <tr>\n",
       "      <th>mean_motion(deg/d)</th>\n",
       "      <td>0.213885</td>\n",
       "      <td>0.213503</td>\n",
       "      <td>0.226019</td>\n",
       "      <td>0.271609</td>\n",
       "      <td>0.238632</td>\n",
       "    </tr>\n",
       "    <tr>\n",
       "      <th>orbital_period(d)</th>\n",
       "      <td>1683.15</td>\n",
       "      <td>1686.16</td>\n",
       "      <td>1592.79</td>\n",
       "      <td>1325.43</td>\n",
       "      <td>1508.6</td>\n",
       "    </tr>\n",
       "    <tr>\n",
       "      <th>mean_anomaly(deg)</th>\n",
       "      <td>77.3721</td>\n",
       "      <td>59.6991</td>\n",
       "      <td>34.925</td>\n",
       "      <td>95.8619</td>\n",
       "      <td>282.366</td>\n",
       "    </tr>\n",
       "  </tbody>\n",
       "</table>\n",
       "</div>"
      ],
      "text/plain": [
       "                             0         1         2          3         4\n",
       "semi-major_axis(au)    2.76917   2.77247   2.66915    2.36142   2.57425\n",
       "eccentricity          0.076009  0.230337  0.256942  0.0887215  0.191095\n",
       "x-y_inclination(deg)   10.5941   34.8362   12.9889    7.14177   5.36699\n",
       "longitude_asc_node     80.3055    173.08   169.853    103.811   141.577\n",
       "argument_perihelion    73.5977   310.049   248.139    150.729   358.688\n",
       "perihelion_dist(au)    2.55868   2.13386   1.98333    2.15191   2.08232\n",
       "aphelion_dist(au)      2.97965   3.41107   3.35497    2.57093   3.06617\n",
       "data_arc(d)               8822     72318     72684      24288     63507\n",
       "n_obs_used                1002      8490      7104       9325      2916\n",
       "diameter                 939.4       545   246.596      525.4   106.699\n",
       "class                      MBA       MBA       MBA        MBA       MBA\n",
       "mean_motion(deg/d)    0.213885  0.213503  0.226019   0.271609  0.238632\n",
       "orbital_period(d)      1683.15   1686.16   1592.79    1325.43    1508.6\n",
       "mean_anomaly(deg)      77.3721   59.6991    34.925    95.8619   282.366"
      ]
     },
     "execution_count": 3,
     "metadata": {},
     "output_type": "execute_result"
    }
   ],
   "source": [
    "#Verify that the data loaded correctly.\n",
    "df.head().T"
   ]
  },
  {
   "cell_type": "markdown",
   "metadata": {},
   "source": [
    "# 3. Feature Engineering"
   ]
  },
  {
   "cell_type": "code",
   "execution_count": 4,
   "metadata": {},
   "outputs": [],
   "source": [
    "df['log'] = np.log(df['diameter'])"
   ]
  },
  {
   "cell_type": "markdown",
   "metadata": {},
   "source": [
    "# 4. Random Forest Regressor"
   ]
  },
  {
   "cell_type": "code",
   "execution_count": 5,
   "metadata": {},
   "outputs": [
    {
     "name": "stdout",
     "output_type": "stream",
     "text": [
      "Train Score: 0.9786435056924974\n",
      "Test Score: 0.8491544115796976\n",
      "MSE: 0.06186787487079966\n",
      "RMSE: 0.24873253681575247\n"
     ]
    }
   ],
   "source": [
    "#Split data into features and target.\n",
    "y = df['log']\n",
    "X = df.drop(columns=['diameter','log','class'])\n",
    "\n",
    "#Create training and test data.\n",
    "X_train, X_test, y_train, y_test = train_test_split(\n",
    "    X, y, test_size=0.2, random_state=42)\n",
    "\n",
    "#Standarize the features\n",
    "\n",
    "scaler = preprocessing.StandardScaler().fit(X_train)\n",
    "\n",
    "X_train_scaled = scaler.transform(X_train)\n",
    "\n",
    "X_test_scaled = scaler.transform(X_test)\n",
    "\n",
    "#Create the model.\n",
    "rf = RandomForestRegressor(n_estimators = 100)\n",
    "\n",
    "#Train the model.\n",
    "rf.fit(X_train, y_train)\n",
    "\n",
    "#Use the model to make predictions.\n",
    "rf_pred = rf.predict(X_test)\n",
    "\n",
    "#Evaluate the model.\n",
    "rf_score = rf.score(X_train, y_train)\n",
    "rf_score_test = rf.score(X_test, y_test)\n",
    "rf_mse = mean_squared_error(y_test, rf_pred)\n",
    "rf_rmse = np.sqrt(rf_mse)\n",
    "\n",
    "print('Train Score:',rf_score)\n",
    "print('Test Score:', rf_score_test)\n",
    "print('MSE:', rf_mse)\n",
    "print('RMSE:', rf_rmse)"
   ]
  },
  {
   "cell_type": "markdown",
   "metadata": {},
   "source": [
    "# 5. Visualize Actual Diameter Against Predicted Diameter"
   ]
  },
  {
   "cell_type": "code",
   "execution_count": 6,
   "metadata": {},
   "outputs": [
    {
     "data": {
      "image/png": "[encoded data removed]",
      "text/plain": [
       "<Figure size 432x288 with 1 Axes>"
      ]
     },
     "metadata": {
      "needs_background": "light"
     },
     "output_type": "display_data"
    }
   ],
   "source": [
    "plt.scatter(y_test,rf_pred)\n",
    "plt.plot([0,10],[0,10],c = 'red')\n",
    "plt.xlabel('actual')\n",
    "plt.ylabel('prediciton')\n",
    "plt.xlim(0, 10) \n",
    "plt.ylim(0, 10) \n",
    "plt.show()"
   ]
  },
  {
   "cell_type": "markdown",
   "metadata": {},
   "source": [
    "# 6. Feature Importance"
   ]
  },
  {
   "cell_type": "code",
   "execution_count": 7,
   "metadata": {},
   "outputs": [
    {
     "name": "stdout",
     "output_type": "stream",
     "text": [
      "12\n"
     ]
    },
    {
     "data": {
      "image/png": "[encoded data removed]",
      "text/plain": [
       "<Figure size 720x720 with 1 Axes>"
      ]
     },
     "metadata": {
      "needs_background": "light"
     },
     "output_type": "display_data"
    }
   ],
   "source": [
    "feature_importance = rf.feature_importances_\n",
    "# make importances relative to max importance\n",
    "feature_importance = 100.0 * (feature_importance / feature_importance.max())[:30]\n",
    "sorted_idx = np.argsort(feature_importance)[:30]\n",
    "\n",
    "pos = np.arange(sorted_idx.shape[0]) + .5\n",
    "print(pos.size)\n",
    "sorted_idx.size\n",
    "plt.figure(figsize=(10,10))\n",
    "plt.barh(pos, feature_importance[sorted_idx], align='center')\n",
    "plt.yticks(pos, X.columns[sorted_idx])\n",
    "plt.xlabel('Relative Importance')\n",
    "plt.title('Variable Importance')\n",
    "plt.show()"
   ]
  },
  {
   "cell_type": "code",
   "execution_count": null,
   "metadata": {},
   "outputs": [],
   "source": []
  }
 ],
 "metadata": {
  "kernelspec": {
   "display_name": "Python 3",
   "language": "python",
   "name": "python3"
  },
  "language_info": {
   "codemirror_mode": {
    "name": "ipython",
    "version": 3
   },
   "file_extension": ".py",
   "mimetype": "text/x-python",
   "name": "python",
   "nbconvert_exporter": "python",
   "pygments_lexer": "ipython3",
   "version": "3.7.3"
  }
 },
 "nbformat": 4,
 "nbformat_minor": 2
}
